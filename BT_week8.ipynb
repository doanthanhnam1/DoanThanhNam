{
  "nbformat": 4,
  "nbformat_minor": 0,
  "metadata": {
    "colab": {
      "provenance": [],
      "authorship_tag": "ABX9TyM8p/FA3gED0qLO4GvttB3V",
      "include_colab_link": true
    },
    "kernelspec": {
      "name": "python3",
      "display_name": "Python 3"
    },
    "language_info": {
      "name": "python"
    }
  },
  "cells": [
    {
      "cell_type": "markdown",
      "metadata": {
        "id": "view-in-github",
        "colab_type": "text"
      },
      "source": [
        "<a href=\"https://colab.research.google.com/github/doanthanhnam1/DoanThanhNam/blob/main/BT_week8.ipynb\" target=\"_parent\"><img src=\"https://colab.research.google.com/assets/colab-badge.svg\" alt=\"Open In Colab\"/></a>"
      ]
    },
    {
      "cell_type": "markdown",
      "source": [
        "ANN (ARTIFICIAL NEURAL NETWORK)"
      ],
      "metadata": {
        "id": "7iPW0af-EybW"
      }
    },
    {
      "cell_type": "code",
      "source": [
        "from sklearn.linear_model import Perceptron #tín hiệu ra là 0 hoặc 1\n",
        "x=[[0,0],[0,1],[1,0],[1,1]] #cột là \n",
        "t=[0,1,1,1] #hàng là số lượng mẫu, số hàng của t và x phải bằng nhau\n",
        "model=Perceptron()\n",
        "model.fit(x,t)\n",
        "model.score(x,t)\n",
        "x1=[[0.5,-1],[0.5,0.5],[-10,1],[0.9,0],[10,10],[100,50],[-2,-7],[5,-6]]\n",
        "y1=model.predict(x1)\n",
        "print(y1)\n",
        "model.score(x1,y1)"
      ],
      "metadata": {
        "colab": {
          "base_uri": "https://localhost:8080/"
        },
        "id": "2a-97sqdE1Fm",
        "outputId": "57c69c7b-5ee8-41ac-a576-2e48460aaba1"
      },
      "execution_count": 30,
      "outputs": [
        {
          "output_type": "stream",
          "name": "stdout",
          "text": [
            "[0 1 0 1 1 1 0 0]\n"
          ]
        },
        {
          "output_type": "execute_result",
          "data": {
            "text/plain": [
              "1.0"
            ]
          },
          "metadata": {},
          "execution_count": 30
        }
      ]
    },
    {
      "cell_type": "code",
      "source": [
        "from sklearn.linear_model import Perceptron\n",
        "x=[[-0.5,-0.5],[-0.5,0.5],[0.3,-0.5],[-0.1,1]] \n",
        "t=[1,1,0,0] \n",
        "model=Perceptron()\n",
        "model.fit(x,t)\n",
        "model.score(x,t)\n",
        "x2=[[-62,-25],[0.5,-2],[6,5],[0.3,-7],[5.2,7.4],[0.6,-0.3],[5,-9],[0.6,9.72],[-5.4,-2.3],[21,100]]\n",
        "y2=model.predict(x2)\n",
        "print(y2)\n",
        "model.score(x2,y2)"
      ],
      "metadata": {
        "colab": {
          "base_uri": "https://localhost:8080/"
        },
        "id": "KffAnowkN9wx",
        "outputId": "89d373cd-cc5f-462b-fbb7-a5a3af134cc6"
      },
      "execution_count": 38,
      "outputs": [
        {
          "output_type": "stream",
          "name": "stdout",
          "text": [
            "[1 1 0 1 0 0 0 0 1 0]\n"
          ]
        },
        {
          "output_type": "execute_result",
          "data": {
            "text/plain": [
              "1.0"
            ]
          },
          "metadata": {},
          "execution_count": 38
        }
      ]
    },
    {
      "cell_type": "code",
      "source": [
        "\n",
        "from sklearn  import datasets\n",
        "import numpy as np\n",
        "import seaborn as sns\n",
        "import matplotlib.pyplot as plt\n",
        "from sklearn.linear_model import Perceptron\n",
        "from sklearn.model_selection import train_test_split #tỉ lệ train_test là 7/3 hoặc 8/2. ko đc lấy train đi kiểm tra\n",
        "from sklearn.metrics import accuracy_score\n",
        "from sklearn.preprocessing import StandardScaler\n",
        "iris=datasets.load_iris()\n",
        "X=iris.data\n",
        "y=iris.target\n",
        "print(X[:5])\n",
        "print(y[:5])\n",
        "X_train,X_test,y_train,y_test=train_test_split(X,y,test_size=0.3)\n",
        "sc=StandardScaler()\n",
        "sc.fit(X_train)\n",
        "X_train_Std=sc.transform(X_train)\n",
        "X_test_Std=sc.transform(X_test)\n",
        "model=Perceptron(max_iter=40, eta0=0.1,random_state=0)#tốc độ eta càng lớn thì sai càng nhiều, thấp thì hội tụ càng chập\n",
        "model.fit(X_train_Std, y_train)\n",
        "y_pred=model.predict(X_test_Std)\n",
        "print(y_pred)\n",
        "print(y_test)\n",
        "print('Độ chính xác của mô hình: ',accuracy_score(y_test,y_pred))"
      ],
      "metadata": {
        "colab": {
          "base_uri": "https://localhost:8080/"
        },
        "id": "K4GKTWO1ReP6",
        "outputId": "bfbc23ab-1111-4f6d-f950-4e721ece73e9"
      },
      "execution_count": 107,
      "outputs": [
        {
          "output_type": "stream",
          "name": "stdout",
          "text": [
            "[[5.1 3.5 1.4 0.2]\n",
            " [4.9 3.  1.4 0.2]\n",
            " [4.7 3.2 1.3 0.2]\n",
            " [4.6 3.1 1.5 0.2]\n",
            " [5.  3.6 1.4 0.2]]\n",
            "[0 0 0 0 0]\n",
            "[1 2 1 0 2 1 2 2 0 1 0 1 2 2 0 2 2 2 2 2 1 2 2 2 2 1 1 2 0 1 0 2 0 0 1 1 0\n",
            " 0 0 2 2 1 0 0 2]\n",
            "[1 2 1 0 2 1 2 2 0 1 0 1 2 2 0 2 2 1 1 2 1 2 2 2 2 0 1 2 0 2 0 2 0 0 1 2 0\n",
            " 0 0 2 2 1 0 0 2]\n",
            "Độ chính xác của mô hình:  0.8888888888888888\n"
          ]
        }
      ]
    },
    {
      "cell_type": "code",
      "source": [
        "import pandas as pd\n",
        "import numpy as np\n",
        "\n",
        "dataframe = pd.read_csv('/content/crabs.csv')\n",
        "dataframe.head()\n",
        "crab_B = dataframe[dataframe['speies']=='B']\n",
        "crab_B.sex = crab_B.sex.apply(lambda x: x.replace(\"M\",\"1\"))\n",
        "crab_B.sex = crab_B.sex.apply(lambda x: x.replace(\"F\",\"0\"))\n",
        "print(crab_B)\n",
        "\n"
      ],
      "metadata": {
        "colab": {
          "base_uri": "https://localhost:8080/"
        },
        "id": "Q-Q37ekgeKDB",
        "outputId": "057298b4-8984-41f6-cade-1c53fd29b8b6"
      },
      "execution_count": 192,
      "outputs": [
        {
          "output_type": "stream",
          "name": "stdout",
          "text": [
            "0     M\n",
            "1     M\n",
            "2     M\n",
            "3     M\n",
            "4     M\n",
            "     ..\n",
            "95    F\n",
            "96    F\n",
            "97    F\n",
            "98    F\n",
            "99    F\n",
            "Name: sex, Length: 100, dtype: object\n",
            "   speies sex  index  fontallip  rearwidth  length  width  depth\n",
            "0       B   1      1        8.1        6.7    16.1   19.0    7.0\n",
            "1       B   1      2        8.8        7.7    18.1   20.8    7.4\n",
            "2       B   1      3        9.2        7.8    19.0   22.4    7.7\n",
            "3       B   1      4        9.6        7.9    20.1   23.1    8.2\n",
            "4       B   1      5        9.8        8.0    20.3   23.0    8.2\n",
            "..    ...  ..    ...        ...        ...     ...    ...    ...\n",
            "95      B   0     46       16.4       14.0    34.2   39.8   15.2\n",
            "96      B   0     47       16.7       16.1    36.6   41.9   15.4\n",
            "97      B   0     48       17.4       16.9    38.2   44.1   16.6\n",
            "98      B   0     49       17.5       16.7    38.6   44.5   17.0\n",
            "99      B   0     50       19.2       16.5    40.9   47.9   18.1\n",
            "\n",
            "[100 rows x 8 columns]\n"
          ]
        },
        {
          "output_type": "stream",
          "name": "stderr",
          "text": [
            "<ipython-input-192-dd9e79b1b108>:8: SettingWithCopyWarning: \n",
            "A value is trying to be set on a copy of a slice from a DataFrame.\n",
            "Try using .loc[row_indexer,col_indexer] = value instead\n",
            "\n",
            "See the caveats in the documentation: https://pandas.pydata.org/pandas-docs/stable/user_guide/indexing.html#returning-a-view-versus-a-copy\n",
            "  crab_B.sex = crab_B.sex.apply(lambda x: x.replace(\"M\",\"1\"))\n",
            "<ipython-input-192-dd9e79b1b108>:9: SettingWithCopyWarning: \n",
            "A value is trying to be set on a copy of a slice from a DataFrame.\n",
            "Try using .loc[row_indexer,col_indexer] = value instead\n",
            "\n",
            "See the caveats in the documentation: https://pandas.pydata.org/pandas-docs/stable/user_guide/indexing.html#returning-a-view-versus-a-copy\n",
            "  crab_B.sex = crab_B.sex.apply(lambda x: x.replace(\"F\",\"0\"))\n"
          ]
        }
      ]
    },
    {
      "cell_type": "markdown",
      "source": [
        "học giới tính"
      ],
      "metadata": {
        "id": "yhpAHR3MrTx8"
      }
    },
    {
      "cell_type": "code",
      "source": [
        "x = crab_B.drop(['speies','sex','index'],axis = 1)\n",
        "print(x)\n",
        "y = crab_B.sex\n",
        "print(y)"
      ],
      "metadata": {
        "colab": {
          "base_uri": "https://localhost:8080/"
        },
        "id": "6NRcuY1tpFW6",
        "outputId": "95622584-2868-4d2e-c508-bce135f76d9c"
      },
      "execution_count": 185,
      "outputs": [
        {
          "output_type": "stream",
          "name": "stdout",
          "text": [
            "    fontallip  rearwidth  length  width  depth\n",
            "0         8.1        6.7    16.1   19.0    7.0\n",
            "1         8.8        7.7    18.1   20.8    7.4\n",
            "2         9.2        7.8    19.0   22.4    7.7\n",
            "3         9.6        7.9    20.1   23.1    8.2\n",
            "4         9.8        8.0    20.3   23.0    8.2\n",
            "..        ...        ...     ...    ...    ...\n",
            "95       16.4       14.0    34.2   39.8   15.2\n",
            "96       16.7       16.1    36.6   41.9   15.4\n",
            "97       17.4       16.9    38.2   44.1   16.6\n",
            "98       17.5       16.7    38.6   44.5   17.0\n",
            "99       19.2       16.5    40.9   47.9   18.1\n",
            "\n",
            "[100 rows x 5 columns]\n",
            "0     1\n",
            "1     1\n",
            "2     1\n",
            "3     1\n",
            "4     1\n",
            "     ..\n",
            "95    0\n",
            "96    0\n",
            "97    0\n",
            "98    0\n",
            "99    0\n",
            "Name: sex, Length: 100, dtype: object\n"
          ]
        }
      ]
    },
    {
      "cell_type": "code",
      "source": [
        "x_train, x_test, y_train, y_test = train_test_split(x,y,test_size=0.3)\n",
        "sc = StandardScaler()\n",
        "sc.fit(x_train)\n",
        "x_train_std = sc.transform(x_train)\n",
        "x_test_std = sc.transform(x_test)"
      ],
      "metadata": {
        "id": "sxAdrvRnpI_S"
      },
      "execution_count": 182,
      "outputs": []
    },
    {
      "cell_type": "code",
      "source": [
        "model = Perceptron(max_iter = 100, eta0 = 0.1, random_state = 0)\n",
        "#model: số lần học\n",
        "model.fit(x_train_std, y_train)\n",
        "y_pred = model.predict(x_test_std)\n",
        "print(y_pred)\n",
        "print(y_test)\n",
        "print(\"Độ chính xác của mô hình: \", accuracy_score(y_test, y_pred))"
      ],
      "metadata": {
        "colab": {
          "base_uri": "https://localhost:8080/"
        },
        "id": "XCrRL8LopOyK",
        "outputId": "dc29f217-dd1f-4372-d439-456899a0cde1"
      },
      "execution_count": 191,
      "outputs": [
        {
          "output_type": "stream",
          "name": "stdout",
          "text": [
            "['0' '0' '0' '1' '0' '0' '1' '1' '0' '1' '1' '1' '0' '0' '1' '0' '0' '0'\n",
            " '0' '0' '0' '0' '0' '0' '0' '1' '0' '1' '0' '0']\n",
            "55    0\n",
            "58    0\n",
            "70    0\n",
            "39    1\n",
            "56    0\n",
            "64    0\n",
            "47    1\n",
            "28    1\n",
            "94    0\n",
            "7     1\n",
            "17    1\n",
            "45    1\n",
            "84    0\n",
            "63    0\n",
            "5     1\n",
            "88    0\n",
            "60    0\n",
            "80    0\n",
            "11    1\n",
            "75    0\n",
            "52    0\n",
            "10    1\n",
            "98    0\n",
            "72    0\n",
            "14    1\n",
            "42    1\n",
            "86    0\n",
            "34    1\n",
            "81    0\n",
            "85    0\n",
            "Name: sex, dtype: object\n",
            "Độ chính xác của mô hình:  0.9\n"
          ]
        }
      ]
    },
    {
      "cell_type": "markdown",
      "source": [
        "học phân loài"
      ],
      "metadata": {
        "id": "xRGXcMpCrOvN"
      }
    },
    {
      "cell_type": "code",
      "source": [
        "data = pd.read_csv('/content/crabs.csv')\n",
        "data.head()\n",
        "crab=data\n",
        "crab.speies = crab_B.speies.apply(lambda x: x.replace(\"B\",\"1\"))\n",
        "crab.speies = crab_B.speies.apply(lambda x: x.replace(\"O\",\"0\"))\n",
        "print(crab)"
      ],
      "metadata": {
        "colab": {
          "base_uri": "https://localhost:8080/"
        },
        "id": "ch4YK94BpWE6",
        "outputId": "d4d54e3e-4cab-4739-b043-9d5188b187b7"
      },
      "execution_count": 198,
      "outputs": [
        {
          "output_type": "stream",
          "name": "stdout",
          "text": [
            "    speies sex  index  fontallip  rearwidth  length  width  depth\n",
            "0        1   M      1        8.1        6.7    16.1   19.0    7.0\n",
            "1        1   M      2        8.8        7.7    18.1   20.8    7.4\n",
            "2        1   M      3        9.2        7.8    19.0   22.4    7.7\n",
            "3        1   M      4        9.6        7.9    20.1   23.1    8.2\n",
            "4        1   M      5        9.8        8.0    20.3   23.0    8.2\n",
            "..     ...  ..    ...        ...        ...     ...    ...    ...\n",
            "195    NaN   F     46       21.4       18.0    41.2   46.2   18.7\n",
            "196    NaN   F     47       21.7       17.1    41.7   47.2   19.6\n",
            "197    NaN   F     48       21.9       17.2    42.6   47.4   19.5\n",
            "198    NaN   F     49       22.5       17.2    43.0   48.7   19.8\n",
            "199    NaN   F     50       23.1       20.2    46.2   52.5   21.1\n",
            "\n",
            "[200 rows x 8 columns]\n"
          ]
        }
      ]
    }
  ]
}