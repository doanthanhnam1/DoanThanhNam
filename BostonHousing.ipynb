{
  "nbformat": 4,
  "nbformat_minor": 0,
  "metadata": {
    "colab": {
      "provenance": [],
      "authorship_tag": "ABX9TyOePPVK3LrYvhqXl3Byv/ex",
      "include_colab_link": true
    },
    "kernelspec": {
      "name": "python3",
      "display_name": "Python 3"
    },
    "language_info": {
      "name": "python"
    }
  },
  "cells": [
    {
      "cell_type": "markdown",
      "metadata": {
        "id": "view-in-github",
        "colab_type": "text"
      },
      "source": [
        "<a href=\"https://colab.research.google.com/github/doanthanhnam1/DoanThanhNam/blob/main/BostonHousing.ipynb\" target=\"_parent\"><img src=\"https://colab.research.google.com/assets/colab-badge.svg\" alt=\"Open In Colab\"/></a>"
      ]
    },
    {
      "cell_type": "code",
      "execution_count": 1,
      "metadata": {
        "id": "1xErsx-aUd61"
      },
      "outputs": [],
      "source": [
        "#https://keras.io/ko/getting-started/faq/#how-can-i-obtain-reproducible-results-using-keras-during-development\n",
        "\n",
        "import numpy as np\n",
        "import tensorflow as tf\n",
        "import random as rn\n",
        "np.random.seed(42) # For starting core Python generated random numbers \n",
        "rn.seed(12345) # Random number generation in the TensorFlow backend \n",
        "tf.random.set_seed(1234) # Random number generation in the TensorFlow backend "
      ]
    },
    {
      "cell_type": "code",
      "source": [
        "#https://keras.io/api/datasets/boston_housing/#load_data-function\n",
        "#tf.keras.datasets.boston_housing.load_data(\n",
        "#    path=\"boston_housing.npz\", test_split=0.2, seed=113)\n",
        "# feature, target: median values of the houses in $1,000.\n",
        "from keras.datasets import boston_housing\n",
        "(train_ft, train_tg), (test_ft, test_tg) = boston_housing.load_data()"
      ],
      "metadata": {
        "colab": {
          "base_uri": "https://localhost:8080/"
        },
        "id": "n3pGT9mhUgxp",
        "outputId": "b4912ce4-d179-4b67-fc95-6696d8663730"
      },
      "execution_count": 2,
      "outputs": [
        {
          "output_type": "stream",
          "name": "stdout",
          "text": [
            "Downloading data from https://storage.googleapis.com/tensorflow/tf-keras-datasets/boston_housing.npz\n",
            "57026/57026 [==============================] - 0s 0us/step\n"
          ]
        }
      ]
    },
    {
      "cell_type": "code",
      "source": [
        "print(f'train:test={len(train_ft)}:{len(test_ft)}')"
      ],
      "metadata": {
        "colab": {
          "base_uri": "https://localhost:8080/"
        },
        "id": "OzysQo8KUhb5",
        "outputId": "0c887992-e2ca-491f-cdf2-508e0a3ee195"
      },
      "execution_count": 3,
      "outputs": [
        {
          "output_type": "stream",
          "name": "stdout",
          "text": [
            "train:test=404:102\n"
          ]
        }
      ]
    },
    {
      "cell_type": "code",
      "source": [
        "# m=[[1,2],     +----> axis=1\n",
        "#    [3,4]]    |\n",
        "#             axis=0\n",
        "ft_wise_mean = train_ft.mean(axis=0) # feature-wise mean\n",
        "train_ft -= ft_wise_mean\n",
        "ft_wise_std = train_ft.std(axis=0) # feature-wise std \n",
        "train_ft /= ft_wise_std\n",
        "#\n",
        "test_ft -= ft_wise_mean\n",
        "test_ft /= ft_wise_std"
      ],
      "metadata": {
        "id": "c5P7_GUtUjlx"
      },
      "execution_count": 4,
      "outputs": []
    },
    {
      "cell_type": "code",
      "source": [
        "num_features = len(train_ft[1])\n",
        "num_features # 13\n",
        "from keras.models import Sequential\n",
        "from keras.layers import Dropout, Dense\n",
        "def build_regression_model():\n",
        "    model = Sequential()\n",
        "    model.add( Dense(64, activation='relu') )\n",
        "    model.add( Dense(64, activation='relu') )\n",
        "    model.add( Dense(1) )\n",
        "    model.compile(optimizer='rmsprop', loss='mse', metrics=['mae'])\n",
        "    return model"
      ],
      "metadata": {
        "id": "1zz0fXyfUmG5"
      },
      "execution_count": 5,
      "outputs": []
    },
    {
      "cell_type": "code",
      "source": [
        "# final training \n",
        "model = build_regression_model()\n",
        "model.fit(train_ft, train_tg,\n",
        "          epochs=130, batch_size=16, verbose=0)\n",
        "\n",
        "# evaluate\n",
        "test_mse_loss, test_mae_score = model.evaluate(test_ft, test_tg, \n",
        "                                              verbose=0)\n",
        "print(f'Mean Abs Error = ${test_mae_score*1000:.2f}')"
      ],
      "metadata": {
        "colab": {
          "base_uri": "https://localhost:8080/"
        },
        "id": "7Tv_Hq35Urho",
        "outputId": "a4a1e198-2a6f-4fcf-b4f5-bb7b1f273948"
      },
      "execution_count": 6,
      "outputs": [
        {
          "output_type": "stream",
          "name": "stdout",
          "text": [
            "Mean Abs Error = $2361.82\n"
          ]
        }
      ]
    }
  ]
}