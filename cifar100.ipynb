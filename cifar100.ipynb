{
  "nbformat": 4,
  "nbformat_minor": 0,
  "metadata": {
    "colab": {
      "provenance": [],
      "mount_file_id": "15qTibMxR9O5_0YZ9XAkirC-CkfUSd9S2",
      "authorship_tag": "ABX9TyNLLwuCLQRo1nGqu8Ip5H+M",
      "include_colab_link": true
    },
    "kernelspec": {
      "name": "python3",
      "display_name": "Python 3"
    },
    "language_info": {
      "name": "python"
    }
  },
  "cells": [
    {
      "cell_type": "markdown",
      "metadata": {
        "id": "view-in-github",
        "colab_type": "text"
      },
      "source": [
        "<a href=\"https://colab.research.google.com/github/doanthanhnam1/DoanThanhNam/blob/main/cifar100.ipynb\" target=\"_parent\"><img src=\"https://colab.research.google.com/assets/colab-badge.svg\" alt=\"Open In Colab\"/></a>"
      ]
    },
    {
      "cell_type": "code",
      "execution_count": 59,
      "metadata": {
        "colab": {
          "base_uri": "https://localhost:8080/"
        },
        "id": "EQ3vYLN3vnr8",
        "outputId": "f1017bfc-059e-4d5b-a453-6322a828d24d"
      },
      "outputs": [
        {
          "output_type": "stream",
          "name": "stdout",
          "text": [
            "(50000, 32, 32, 3)\n"
          ]
        },
        {
          "output_type": "execute_result",
          "data": {
            "text/plain": [
              "(10000, 32, 32, 3)"
            ]
          },
          "metadata": {},
          "execution_count": 59
        }
      ],
      "source": [
        "\n",
        "from keras.datasets  import mnist\n",
        "from keras.datasets  import cifar100\n",
        "import matplotlib.pyplot as plt\n",
        "from keras import models  \n",
        "(x_train,y_train),(x_test,y_test)=cifar100.load_data()\n",
        "print(x_train.shape)\n",
        "x_train.shape\n",
        "x_test.shape\n",
        "     "
      ]
    },
    {
      "cell_type": "code",
      "source": [
        "from keras.models import Sequential\n",
        "from keras.layers import Dense\n",
        "\n",
        "x_train = x_train.reshape(50000,32*32*3)\n",
        "x_test= x_test.reshape(10000,32*32*3)\n",
        "\n"
      ],
      "metadata": {
        "id": "zRgGxtRbv4Jh"
      },
      "execution_count": 60,
      "outputs": []
    },
    {
      "cell_type": "code",
      "source": [
        "\n",
        "x_train_1= x_train.astype('float32')/255\n",
        "\n",
        "x_test_1= x_test.astype('float32')/255\n",
        "\n",
        "from keras.utils import to_categorical \n",
        "y_train_1= to_categorical(y_train,100)\n",
        "y_test_1= to_categorical(y_test,100)\n",
        "print(y_test)"
      ],
      "metadata": {
        "colab": {
          "base_uri": "https://localhost:8080/"
        },
        "id": "7PGMQ_yHwoN8",
        "outputId": "73c6203f-3b53-49e3-fbcf-50533da872b1"
      },
      "execution_count": 61,
      "outputs": [
        {
          "output_type": "stream",
          "name": "stdout",
          "text": [
            "[[49]\n",
            " [33]\n",
            " [72]\n",
            " ...\n",
            " [51]\n",
            " [42]\n",
            " [70]]\n"
          ]
        }
      ]
    },
    {
      "cell_type": "code",
      "source": [
        "model=models.Sequential()\n",
        "model.add(Dense(2000,input_shape=(32*32*3,),activation=\"relu\"))\n",
        "model.add(Dense(1000,activation=\"relu\"))\n",
        "model.add(Dense(100,activation=\"linear\",name=\"Softmax\"))\n",
        "model.summary"
      ],
      "metadata": {
        "colab": {
          "base_uri": "https://localhost:8080/"
        },
        "id": "xUGGXQum2gIu",
        "outputId": "2e85bc7a-c7b8-44ea-91de-f36a3474dcbc"
      },
      "execution_count": 57,
      "outputs": [
        {
          "output_type": "execute_result",
          "data": {
            "text/plain": [
              "<bound method Model.summary of <keras.engine.sequential.Sequential object at 0x7f0aaf693370>>"
            ]
          },
          "metadata": {},
          "execution_count": 57
        }
      ]
    },
    {
      "cell_type": "code",
      "source": [
        "model.compile(optimizer='rmsprop',loss='categorical_crossentropy',metrics=['accuracy'])\n",
        "model.fit(x_train_1,y_train_1,epochs=5,batch_size=128)\n",
        "test_lost,test_acc=model.evaluate(x_test_1,y_test_1)\n",
        "print('test_accuracy',test_acc)\n",
        "print('test_lost',test_lost)"
      ],
      "metadata": {
        "colab": {
          "base_uri": "https://localhost:8080/"
        },
        "id": "R2oedKxIyoHh",
        "outputId": "7147b5cd-ad8d-4643-a224-eaaa5a08aa60"
      },
      "execution_count": 62,
      "outputs": [
        {
          "output_type": "stream",
          "name": "stdout",
          "text": [
            "Epoch 1/5\n",
            "391/391 [==============================] - 39s 99ms/step - loss: 8.8092 - accuracy: 0.0100\n",
            "Epoch 2/5\n",
            "391/391 [==============================] - 40s 102ms/step - loss: 8.8092 - accuracy: 0.0100\n",
            "Epoch 3/5\n",
            "391/391 [==============================] - 40s 102ms/step - loss: 8.8092 - accuracy: 0.0100\n",
            "Epoch 4/5\n",
            "391/391 [==============================] - 42s 108ms/step - loss: 8.8092 - accuracy: 0.0100\n",
            "Epoch 5/5\n",
            "391/391 [==============================] - 40s 102ms/step - loss: 8.8092 - accuracy: 0.0100\n",
            "313/313 [==============================] - 4s 12ms/step - loss: 8.7956 - accuracy: 0.0100\n",
            "test_accuracy 0.009999999776482582\n",
            "test_lost 8.795642852783203\n"
          ]
        }
      ]
    },
    {
      "cell_type": "code",
      "source": [
        "model.save(\"/content/drive/MyDrive/Colab Notebooks/BT/cifar100.h5\")"
      ],
      "metadata": {
        "id": "znTB5jjB5iIg"
      },
      "execution_count": 65,
      "outputs": []
    },
    {
      "cell_type": "code",
      "source": [],
      "metadata": {
        "id": "5cHhiarb8xkp"
      },
      "execution_count": null,
      "outputs": []
    }
  ]
}