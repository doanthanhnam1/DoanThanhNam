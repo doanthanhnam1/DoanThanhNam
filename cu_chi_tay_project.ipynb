{
  "nbformat": 4,
  "nbformat_minor": 0,
  "metadata": {
    "colab": {
      "provenance": [],
      "gpuType": "T4",
      "mount_file_id": "1zBouL8qrpmOwJIzdxguOLx2o4BnVd6lB",
      "authorship_tag": "ABX9TyN+ww76VDHwI8Ea9T19yXY+",
      "include_colab_link": true
    },
    "kernelspec": {
      "name": "python3",
      "display_name": "Python 3"
    },
    "language_info": {
      "name": "python"
    },
    "accelerator": "GPU",
    "gpuClass": "standard"
  },
  "cells": [
    {
      "cell_type": "markdown",
      "metadata": {
        "id": "view-in-github",
        "colab_type": "text"
      },
      "source": [
        "<a href=\"https://colab.research.google.com/github/doanthanhnam1/DoanThanhNam/blob/main/cu_chi_tay_project.ipynb\" target=\"_parent\"><img src=\"https://colab.research.google.com/assets/colab-badge.svg\" alt=\"Open In Colab\"/></a>"
      ]
    },
    {
      "cell_type": "code",
      "execution_count": 58,
      "metadata": {
        "id": "PUHGCXvxtCV9"
      },
      "outputs": [],
      "source": [
        "from os import listdir\n",
        "from numpy import asarray\n",
        "from numpy import save\n",
        "from keras import preprocessing\n",
        "from tensorflow.keras.utils import load_img, img_to_array"
      ]
    },
    {
      "cell_type": "code",
      "source": [
        "data=\"/content/drive/MyDrive/cu_chi/data/\""
      ],
      "metadata": {
        "id": "vfQHbNVvtwpJ"
      },
      "execution_count": 59,
      "outputs": []
    },
    {
      "cell_type": "code",
      "source": [
        "pixels,labels=list(),list()\n",
        "\n",
        "for folder in listdir(data):\n",
        "    if folder!='.DS_Store':\n",
        "        for file in listdir(data  + folder):\n",
        "            if file!='.DS_Store':\n",
        "                pixel=load_img(data  + folder +\"/\" + file)\n",
        "                pixel=img_to_array(pixel)\n",
        "                pixels.append(pixel)\n",
        "                labels.append( folder)\n",
        "\n",
        "pixels =asarray(pixels)\n",
        "labels =asarray(labels)#.reshape(-1,1)"
      ],
      "metadata": {
        "id": "9T32A1PIt3uY"
      },
      "execution_count": 60,
      "outputs": []
    },
    {
      "cell_type": "code",
      "source": [
        "from sklearn.preprocessing import LabelBinarizer\n",
        "import pickle\n",
        "from sklearn.model_selection import train_test_split\n",
        "encoder = LabelBinarizer()\n",
        "labels = encoder.fit_transform(labels)\n",
        "#print(labels)\n",
        "\n",
        "file = open('pix.data', 'wb')\n",
        "# dump information to that file\n",
        "pickle.dump((pixels,labels), file)\n",
        "# close the file\n",
        "file.close()"
      ],
      "metadata": {
        "id": "4qUo5Tbdt6ph"
      },
      "execution_count": 61,
      "outputs": []
    },
    {
      "cell_type": "code",
      "source": [
        "def load_data():\n",
        "    file = open('pix.data', 'rb')\n",
        "    # dump information to that file\n",
        "    (pixels, labels) = pickle.load(file)\n",
        "    # close the file\n",
        "    file.close()\n",
        "    return pixels, labels\n",
        "\n",
        "#save_data()\n",
        "X,y = load_data()\n",
        "#random.shuffle(X)\n",
        "X_train, X_test, y_train, y_test = train_test_split( X, y, test_size=0.2, random_state=100)"
      ],
      "metadata": {
        "id": "yShPnRwst7Ld"
      },
      "execution_count": 62,
      "outputs": []
    },
    {
      "cell_type": "code",
      "source": [
        "print(X_train.shape)\n",
        "print(X_test.shape)"
      ],
      "metadata": {
        "colab": {
          "base_uri": "https://localhost:8080/"
        },
        "id": "M1QbRQaG1xro",
        "outputId": "4764eff8-fc42-46e4-b9b3-842362d49739"
      },
      "execution_count": 63,
      "outputs": [
        {
          "output_type": "stream",
          "name": "stdout",
          "text": [
            "(771, 192, 128, 3)\n",
            "(193, 192, 128, 3)\n"
          ]
        }
      ]
    },
    {
      "cell_type": "code",
      "source": [
        "from keras.models import Sequential\n",
        "from keras.layers import Dense\n",
        "from numpy.ma.core import reshape"
      ],
      "metadata": {
        "id": "bE93Dp34t8uD"
      },
      "execution_count": 64,
      "outputs": []
    },
    {
      "cell_type": "code",
      "source": [
        "X_train= X_train.astype('float32')/255\n",
        "print(y_train.shape)\n",
        "X_test= X_test.astype('float32')/255"
      ],
      "metadata": {
        "colab": {
          "base_uri": "https://localhost:8080/"
        },
        "id": "G9xCGqjBuANR",
        "outputId": "978331ec-1978-41c6-ce06-f3fbcd375e1e"
      },
      "execution_count": 65,
      "outputs": [
        {
          "output_type": "stream",
          "name": "stdout",
          "text": [
            "(771, 4)\n"
          ]
        }
      ]
    },
    {
      "cell_type": "code",
      "source": [
        "from keras import models \n",
        "from keras.models import Sequential,Model\n",
        "from keras import Input\n",
        "from keras.layers import Dense,Flatten,Dropout,Conv2D,MaxPooling2D,Normalization\n",
        "from keras.optimizers import Adam\n",
        "batch_size=300 #lô\n",
        "epochs=50     #số lần học\n",
        "classes=4    #phân loại"
      ],
      "metadata": {
        "id": "IKZQWe7LuVZi"
      },
      "execution_count": 66,
      "outputs": []
    },
    {
      "cell_type": "code",
      "source": [
        "model=Sequential()\n",
        "model.add(Conv2D(32,kernel_size=(3,3),activation='linear',input_shape=(192,128,3),padding='same'))\n",
        "from keras.layers import LeakyReLU\n",
        "model.add(LeakyReLU(alpha=0.1))\n",
        "model.add(MaxPooling2D((2,2),padding='same'))\n",
        "#so lan tich chap\n",
        "model.add(Conv2D(64,(3,3),activation='linear',padding='same'))\n",
        "model.add(LeakyReLU(alpha=0.1))\n",
        "model.add(MaxPooling2D((2,2),padding='same'))"
      ],
      "metadata": {
        "id": "vhwg3eqJuV_S"
      },
      "execution_count": 67,
      "outputs": []
    },
    {
      "cell_type": "code",
      "source": [
        "model.add(Conv2D(128,(3,3),activation='linear',padding='same'))\n",
        "model.add(LeakyReLU(alpha=0.1))\n",
        "model.add(MaxPooling2D((2,2),padding='same'))"
      ],
      "metadata": {
        "id": "2X1Fxxm-uZXK"
      },
      "execution_count": 68,
      "outputs": []
    },
    {
      "cell_type": "code",
      "source": [
        "from keras import optimizers\n",
        "from keras import losses\n",
        "model.add(Flatten())\n",
        "model.add(Dense(1000,activation='linear'))\n",
        "model.add(Dense(500,activation='linear'))\n",
        "model.add(LeakyReLU(alpha=0.1))\n",
        "model.add(Dense(classes,activation='softmax'))\n",
        "model.compile(loss=losses.categorical_crossentropy,optimizer=Adam(),metrics=['accuracy'])\n",
        "model.summary()\n",
        "train=model.fit(X_train,y_train,batch_size=batch_size,epochs=epochs,verbose=1)"
      ],
      "metadata": {
        "colab": {
          "base_uri": "https://localhost:8080/"
        },
        "id": "KLmkqdlqubDy",
        "outputId": "b6b1dcb1-8586-4827-ad7a-375d2c9b341f"
      },
      "execution_count": 69,
      "outputs": [
        {
          "output_type": "stream",
          "name": "stdout",
          "text": [
            "Model: \"sequential_2\"\n",
            "_________________________________________________________________\n",
            " Layer (type)                Output Shape              Param #   \n",
            "=================================================================\n",
            " conv2d_6 (Conv2D)           (None, 192, 128, 32)      896       \n",
            "                                                                 \n",
            " leaky_re_lu_8 (LeakyReLU)   (None, 192, 128, 32)      0         \n",
            "                                                                 \n",
            " max_pooling2d_6 (MaxPooling  (None, 96, 64, 32)       0         \n",
            " 2D)                                                             \n",
            "                                                                 \n",
            " conv2d_7 (Conv2D)           (None, 96, 64, 64)        18496     \n",
            "                                                                 \n",
            " leaky_re_lu_9 (LeakyReLU)   (None, 96, 64, 64)        0         \n",
            "                                                                 \n",
            " max_pooling2d_7 (MaxPooling  (None, 48, 32, 64)       0         \n",
            " 2D)                                                             \n",
            "                                                                 \n",
            " conv2d_8 (Conv2D)           (None, 48, 32, 128)       73856     \n",
            "                                                                 \n",
            " leaky_re_lu_10 (LeakyReLU)  (None, 48, 32, 128)       0         \n",
            "                                                                 \n",
            " max_pooling2d_8 (MaxPooling  (None, 24, 16, 128)      0         \n",
            " 2D)                                                             \n",
            "                                                                 \n",
            " flatten_2 (Flatten)         (None, 49152)             0         \n",
            "                                                                 \n",
            " dense_6 (Dense)             (None, 1000)              49153000  \n",
            "                                                                 \n",
            " dense_7 (Dense)             (None, 500)               500500    \n",
            "                                                                 \n",
            " leaky_re_lu_11 (LeakyReLU)  (None, 500)               0         \n",
            "                                                                 \n",
            " dense_8 (Dense)             (None, 4)                 2004      \n",
            "                                                                 \n",
            "=================================================================\n",
            "Total params: 49,748,752\n",
            "Trainable params: 49,748,752\n",
            "Non-trainable params: 0\n",
            "_________________________________________________________________\n",
            "Epoch 1/50\n",
            "3/3 [==============================] - 16s 1s/step - loss: 8.6034 - accuracy: 0.2412\n",
            "Epoch 2/50\n",
            "3/3 [==============================] - 1s 215ms/step - loss: 5.2467 - accuracy: 0.3463\n",
            "Epoch 3/50\n",
            "3/3 [==============================] - 1s 215ms/step - loss: 2.2698 - accuracy: 0.2957\n",
            "Epoch 4/50\n",
            "3/3 [==============================] - 1s 212ms/step - loss: 1.1596 - accuracy: 0.5435\n",
            "Epoch 5/50\n",
            "3/3 [==============================] - 1s 216ms/step - loss: 1.0226 - accuracy: 0.6018\n",
            "Epoch 6/50\n",
            "3/3 [==============================] - 1s 216ms/step - loss: 0.7847 - accuracy: 0.8379\n",
            "Epoch 7/50\n",
            "3/3 [==============================] - 1s 215ms/step - loss: 0.5696 - accuracy: 0.7886\n",
            "Epoch 8/50\n",
            "3/3 [==============================] - 1s 216ms/step - loss: 0.3005 - accuracy: 0.9637\n",
            "Epoch 9/50\n",
            "3/3 [==============================] - 1s 231ms/step - loss: 0.1442 - accuracy: 0.9922\n",
            "Epoch 10/50\n",
            "3/3 [==============================] - 1s 231ms/step - loss: 0.0685 - accuracy: 0.9935\n",
            "Epoch 11/50\n",
            "3/3 [==============================] - 1s 237ms/step - loss: 0.0283 - accuracy: 1.0000\n",
            "Epoch 12/50\n",
            "3/3 [==============================] - 1s 216ms/step - loss: 0.0112 - accuracy: 1.0000\n",
            "Epoch 13/50\n",
            "3/3 [==============================] - 1s 216ms/step - loss: 0.0056 - accuracy: 1.0000\n",
            "Epoch 14/50\n",
            "3/3 [==============================] - 1s 217ms/step - loss: 0.0034 - accuracy: 1.0000\n",
            "Epoch 15/50\n",
            "3/3 [==============================] - 1s 215ms/step - loss: 0.0016 - accuracy: 1.0000\n",
            "Epoch 16/50\n",
            "3/3 [==============================] - 1s 215ms/step - loss: 6.5736e-04 - accuracy: 1.0000\n",
            "Epoch 17/50\n",
            "3/3 [==============================] - 1s 217ms/step - loss: 7.3244e-04 - accuracy: 1.0000\n",
            "Epoch 18/50\n",
            "3/3 [==============================] - 1s 229ms/step - loss: 5.8136e-04 - accuracy: 1.0000\n",
            "Epoch 19/50\n",
            "3/3 [==============================] - 1s 217ms/step - loss: 3.1471e-04 - accuracy: 1.0000\n",
            "Epoch 20/50\n",
            "3/3 [==============================] - 1s 217ms/step - loss: 2.1269e-04 - accuracy: 1.0000\n",
            "Epoch 21/50\n",
            "3/3 [==============================] - 1s 221ms/step - loss: 1.5510e-04 - accuracy: 1.0000\n",
            "Epoch 22/50\n",
            "3/3 [==============================] - 1s 210ms/step - loss: 1.5041e-04 - accuracy: 1.0000\n",
            "Epoch 23/50\n",
            "3/3 [==============================] - 1s 220ms/step - loss: 1.5141e-04 - accuracy: 1.0000\n",
            "Epoch 24/50\n",
            "3/3 [==============================] - 1s 219ms/step - loss: 1.3746e-04 - accuracy: 1.0000\n",
            "Epoch 25/50\n",
            "3/3 [==============================] - 1s 218ms/step - loss: 1.1902e-04 - accuracy: 1.0000\n",
            "Epoch 26/50\n",
            "3/3 [==============================] - 1s 217ms/step - loss: 1.0629e-04 - accuracy: 1.0000\n",
            "Epoch 27/50\n",
            "3/3 [==============================] - 1s 216ms/step - loss: 9.6743e-05 - accuracy: 1.0000\n",
            "Epoch 28/50\n",
            "3/3 [==============================] - 1s 229ms/step - loss: 8.8779e-05 - accuracy: 1.0000\n",
            "Epoch 29/50\n",
            "3/3 [==============================] - 1s 220ms/step - loss: 8.4448e-05 - accuracy: 1.0000\n",
            "Epoch 30/50\n",
            "3/3 [==============================] - 1s 239ms/step - loss: 8.2649e-05 - accuracy: 1.0000\n",
            "Epoch 31/50\n",
            "3/3 [==============================] - 1s 222ms/step - loss: 8.0751e-05 - accuracy: 1.0000\n",
            "Epoch 32/50\n",
            "3/3 [==============================] - 1s 229ms/step - loss: 7.9154e-05 - accuracy: 1.0000\n",
            "Epoch 33/50\n",
            "3/3 [==============================] - 1s 216ms/step - loss: 7.7592e-05 - accuracy: 1.0000\n",
            "Epoch 34/50\n",
            "3/3 [==============================] - 1s 217ms/step - loss: 7.6063e-05 - accuracy: 1.0000\n",
            "Epoch 35/50\n",
            "3/3 [==============================] - 1s 218ms/step - loss: 7.4327e-05 - accuracy: 1.0000\n",
            "Epoch 36/50\n",
            "3/3 [==============================] - 1s 219ms/step - loss: 7.2764e-05 - accuracy: 1.0000\n",
            "Epoch 37/50\n",
            "3/3 [==============================] - 1s 217ms/step - loss: 7.1317e-05 - accuracy: 1.0000\n",
            "Epoch 38/50\n",
            "3/3 [==============================] - 1s 217ms/step - loss: 7.0374e-05 - accuracy: 1.0000\n",
            "Epoch 39/50\n",
            "3/3 [==============================] - 1s 220ms/step - loss: 6.9144e-05 - accuracy: 1.0000\n",
            "Epoch 40/50\n",
            "3/3 [==============================] - 1s 223ms/step - loss: 6.8409e-05 - accuracy: 1.0000\n",
            "Epoch 41/50\n",
            "3/3 [==============================] - 1s 219ms/step - loss: 6.7313e-05 - accuracy: 1.0000\n",
            "Epoch 42/50\n",
            "3/3 [==============================] - 1s 227ms/step - loss: 6.6130e-05 - accuracy: 1.0000\n",
            "Epoch 43/50\n",
            "3/3 [==============================] - 1s 216ms/step - loss: 6.5355e-05 - accuracy: 1.0000\n",
            "Epoch 44/50\n",
            "3/3 [==============================] - 1s 224ms/step - loss: 6.4294e-05 - accuracy: 1.0000\n",
            "Epoch 45/50\n",
            "3/3 [==============================] - 1s 220ms/step - loss: 6.3443e-05 - accuracy: 1.0000\n",
            "Epoch 46/50\n",
            "3/3 [==============================] - 1s 227ms/step - loss: 6.2590e-05 - accuracy: 1.0000\n",
            "Epoch 47/50\n",
            "3/3 [==============================] - 1s 231ms/step - loss: 6.1841e-05 - accuracy: 1.0000\n",
            "Epoch 48/50\n",
            "3/3 [==============================] - 1s 231ms/step - loss: 6.0945e-05 - accuracy: 1.0000\n",
            "Epoch 49/50\n",
            "3/3 [==============================] - 1s 233ms/step - loss: 5.9892e-05 - accuracy: 1.0000\n",
            "Epoch 50/50\n",
            "3/3 [==============================] - 1s 219ms/step - loss: 5.9110e-05 - accuracy: 1.0000\n"
          ]
        }
      ]
    },
    {
      "cell_type": "code",
      "source": [
        "model.save(\"/content/drive/MyDrive/Colab Notebooks/BT/cu_chi.h5\")"
      ],
      "metadata": {
        "id": "2vFrpZYXuc36"
      },
      "execution_count": 70,
      "outputs": []
    },
    {
      "cell_type": "code",
      "source": [],
      "metadata": {
        "id": "fjDMrY6BuiZF"
      },
      "execution_count": null,
      "outputs": []
    }
  ]
}