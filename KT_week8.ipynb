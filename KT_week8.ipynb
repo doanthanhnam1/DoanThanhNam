{
  "nbformat": 4,
  "nbformat_minor": 0,
  "metadata": {
    "colab": {
      "provenance": [],
      "authorship_tag": "ABX9TyPwoHoOkLZfuK8JH47XeAuW",
      "include_colab_link": true
    },
    "kernelspec": {
      "name": "python3",
      "display_name": "Python 3"
    },
    "language_info": {
      "name": "python"
    }
  },
  "cells": [
    {
      "cell_type": "markdown",
      "metadata": {
        "id": "view-in-github",
        "colab_type": "text"
      },
      "source": [
        "<a href=\"https://colab.research.google.com/github/doanthanhnam1/DoanThanhNam/blob/main/KT_week8.ipynb\" target=\"_parent\"><img src=\"https://colab.research.google.com/assets/colab-badge.svg\" alt=\"Open In Colab\"/></a>"
      ]
    },
    {
      "cell_type": "code",
      "source": [
        "#Đoàn Thanh Nam_20146506\n",
        "import pandas as pd\n",
        "from sklearn  import datasets\n",
        "import numpy as np\n",
        "import seaborn as sns\n",
        "import matplotlib.pyplot as plt\n",
        "from sklearn.linear_model import Perceptron\n",
        "from sklearn.model_selection import train_test_split \n",
        "from sklearn.metrics import accuracy_score\n",
        "from sklearn.preprocessing import StandardScaler\n",
        "dataframe = pd.read_csv('/content/lung_cancer_examples.csv')\n",
        "dataframe.head()\n",
        "x = dataframe.drop(['Name','Surname','Result','Age'],axis = 1)\n",
        "y = dataframe.Result   #1 là ung thư\n",
        "x_train, x_test, y_train, y_test = train_test_split(x,y,test_size=0.3)\n",
        "sc = StandardScaler()\n",
        "sc.fit(x_train)\n",
        "x_train_std = sc.transform(x_train)\n",
        "x_test_std = sc.transform(x_test)\n",
        "model = Perceptron(max_iter = 100, eta0 = 0.1, random_state = 0)\n",
        "model.fit(x_train_std, y_train)\n",
        "y_pred = model.predict(x_test_std)\n",
        "print(y_pred)\n",
        "print(y_test)\n",
        "print(\"Độ chính xác của mô hình: \", accuracy_score(y_test, y_pred))"
      ],
      "metadata": {
        "colab": {
          "base_uri": "https://localhost:8080/"
        },
        "id": "AuV8Vj3jnM_x",
        "outputId": "9e4b53d9-7531-42df-a14d-624f54b9c3e3"
      },
      "execution_count": 16,
      "outputs": [
        {
          "output_type": "stream",
          "name": "stdout",
          "text": [
            "[0 0 0 1 0 0 1 1 0 0 0 0 1 1 0 1 0 0]\n",
            "26    0\n",
            "39    0\n",
            "21    0\n",
            "9     1\n",
            "48    1\n",
            "45    0\n",
            "49    1\n",
            "16    1\n",
            "38    0\n",
            "58    0\n",
            "15    0\n",
            "41    0\n",
            "20    1\n",
            "31    1\n",
            "17    0\n",
            "42    1\n",
            "19    1\n",
            "53    0\n",
            "Name: Result, dtype: int64\n",
            "Độ chính xác của mô hình:  0.8888888888888888\n"
          ]
        }
      ]
    }
  ]
}