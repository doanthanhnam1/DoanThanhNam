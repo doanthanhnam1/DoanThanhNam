{
  "nbformat": 4,
  "nbformat_minor": 0,
  "metadata": {
    "colab": {
      "provenance": [],
      "mount_file_id": "1u08_oKS5jfm_g1l4iykXDfyA7ZFTkWi_",
      "authorship_tag": "ABX9TyNiY3VmAm9+x9foqg+I74EU",
      "include_colab_link": true
    },
    "kernelspec": {
      "name": "python3",
      "display_name": "Python 3"
    },
    "language_info": {
      "name": "python"
    },
    "accelerator": "GPU",
    "gpuClass": "standard"
  },
  "cells": [
    {
      "cell_type": "markdown",
      "metadata": {
        "id": "view-in-github",
        "colab_type": "text"
      },
      "source": [
        "<a href=\"https://colab.research.google.com/github/doanthanhnam1/DoanThanhNam/blob/main/CNN_ANN.ipynb\" target=\"_parent\"><img src=\"https://colab.research.google.com/assets/colab-badge.svg\" alt=\"Open In Colab\"/></a>"
      ]
    },
    {
      "cell_type": "code",
      "execution_count": 1,
      "metadata": {
        "colab": {
          "base_uri": "https://localhost:8080/"
        },
        "id": "0W20p_6v30Za",
        "outputId": "035e2d3f-1510-48e8-b2ce-99cc3b51537c"
      },
      "outputs": [
        {
          "output_type": "stream",
          "name": "stdout",
          "text": [
            "Downloading data from https://storage.googleapis.com/tensorflow/tf-keras-datasets/train-labels-idx1-ubyte.gz\n",
            "29515/29515 [==============================] - 0s 0us/step\n",
            "Downloading data from https://storage.googleapis.com/tensorflow/tf-keras-datasets/train-images-idx3-ubyte.gz\n",
            "26421880/26421880 [==============================] - 0s 0us/step\n",
            "Downloading data from https://storage.googleapis.com/tensorflow/tf-keras-datasets/t10k-labels-idx1-ubyte.gz\n",
            "5148/5148 [==============================] - 0s 0us/step\n",
            "Downloading data from https://storage.googleapis.com/tensorflow/tf-keras-datasets/t10k-images-idx3-ubyte.gz\n",
            "4422102/4422102 [==============================] - 0s 0us/step\n",
            "(60000, 28, 28)\n",
            "(10000, 28, 28)\n"
          ]
        }
      ],
      "source": [
        "\n",
        "from keras import models  \n",
        "import matplotlib.pyplot as plt\n",
        "from keras.datasets import fashion_mnist\n",
        "(train_X,train_Y),(test_X,test_Y)=fashion_mnist.load_data()\n",
        "print(train_X.shape)\n",
        "print(test_X.shape)"
      ]
    },
    {
      "cell_type": "code",
      "source": [
        "plt.figure(figsize=[10,10])\n",
        "plt.subplot(121)\n",
        "plt.imshow(train_X[0],cmap='gray')\n",
        "plt.title('so: {}'.format(train_Y[0]))\n",
        "plt.subplot(122)\n",
        "plt.imshow(train_X[100],cmap='gray')\n",
        "plt.title('so: {}'.format(train_Y[100]))"
      ],
      "metadata": {
        "colab": {
          "base_uri": "https://localhost:8080/",
          "height": 415
        },
        "id": "zgcNl08a4n6O",
        "outputId": "6474daaf-ae08-4dcf-c273-ff5c5c24197d"
      },
      "execution_count": 2,
      "outputs": [
        {
          "output_type": "execute_result",
          "data": {
            "text/plain": [
              "Text(0.5, 1.0, 'so: 8')"
            ]
          },
          "metadata": {},
          "execution_count": 2
        },
        {
          "output_type": "display_data",
          "data": {
            "text/plain": [
              "<Figure size 1000x1000 with 2 Axes>"
            ],
            "image/png": "[encoded data removed]"
          },
          "metadata": {}
        }
      ]
    },
    {
      "cell_type": "code",
      "source": [
        "from numpy.ma.core import reshape\n",
        "train_X=train_X.reshape(60000,28,28,1)\n",
        "test_X=test_X.reshape(10000,28,28,1)\n",
        "print(train_X.shape)\n",
        "print(test_X.shape)\n",
        "train_X=train_X.astype('float32')\n",
        "train_X=train_X/255"
      ],
      "metadata": {
        "colab": {
          "base_uri": "https://localhost:8080/"
        },
        "id": "90kNKXKW5zn7",
        "outputId": "bae635f8-1e65-4f0f-f8ea-c2e60413bba3"
      },
      "execution_count": 3,
      "outputs": [
        {
          "output_type": "stream",
          "name": "stdout",
          "text": [
            "(60000, 28, 28, 1)\n",
            "(10000, 28, 28, 1)\n"
          ]
        }
      ]
    },
    {
      "cell_type": "code",
      "source": [
        "from keras.utils import to_categorical \n",
        "train_Y= to_categorical(train_Y)\n",
        "test_Y= to_categorical(test_Y)\n",
        "print(test_Y)"
      ],
      "metadata": {
        "colab": {
          "base_uri": "https://localhost:8080/"
        },
        "id": "Cxg4cvOR6zog",
        "outputId": "fbc94b15-0b7b-47d6-da25-dd128f64e2ef"
      },
      "execution_count": 4,
      "outputs": [
        {
          "output_type": "stream",
          "name": "stdout",
          "text": [
            "[[0. 0. 0. ... 0. 0. 1.]\n",
            " [0. 0. 1. ... 0. 0. 0.]\n",
            " [0. 1. 0. ... 0. 0. 0.]\n",
            " ...\n",
            " [0. 0. 0. ... 0. 1. 0.]\n",
            " [0. 1. 0. ... 0. 0. 0.]\n",
            " [0. 0. 0. ... 0. 0. 0.]]\n"
          ]
        }
      ]
    },
    {
      "cell_type": "code",
      "source": [
        "from keras import models \n",
        "from keras.models import Sequential,Model\n",
        "from keras import Input\n",
        "from keras.layers import Dense,Flatten,Dropout,Conv2D,MaxPooling2D,Normalization\n",
        "from keras.optimizers import Adam\n",
        "batch_size=64 #lô\n",
        "epochs=20     #số lần học\n",
        "classes=10    #phân loại"
      ],
      "metadata": {
        "id": "Lh0-q6FX7GLW"
      },
      "execution_count": 5,
      "outputs": []
    },
    {
      "cell_type": "code",
      "source": [
        "model=Sequential()\n",
        "model.add(Conv2D(32,kernel_size=(3,3),activation='linear',input_shape=(28,28,1),padding='same'))\n",
        "from keras.layers import LeakyReLU\n",
        "model.add(LeakyReLU(alpha=0.1))\n",
        "model.add(MaxPooling2D((2,2),padding='same'))\n",
        "#so lan tich chap\n",
        "model.add(Conv2D(64,(3,3),activation='linear',padding='same'))\n",
        "model.add(LeakyReLU(alpha=0.1))\n",
        "model.add(MaxPooling2D((2,2),padding='same'))"
      ],
      "metadata": {
        "id": "WGUdl_zQ9Lzx"
      },
      "execution_count": 6,
      "outputs": []
    },
    {
      "cell_type": "code",
      "source": [
        "model.add(Conv2D(128,(3,3),activation='linear',padding='same'))\n",
        "model.add(LeakyReLU(alpha=0.1))\n",
        "model.add(MaxPooling2D((2,2),padding='same'))"
      ],
      "metadata": {
        "id": "oS9vYm61_uPR"
      },
      "execution_count": 7,
      "outputs": []
    },
    {
      "cell_type": "code",
      "source": [
        "from keras import optimizers\n",
        "from keras import losses\n",
        "model.add(Flatten())\n",
        "model.add(Dense(128,activation='linear'))\n",
        "model.add(LeakyReLU(alpha=0.1))\n",
        "model.add(Dense(classes,activation='softmax'))\n",
        "model.compile(loss=losses.categorical_crossentropy,optimizer=Adam(),metrics=['accuracy'])\n",
        "model.summary()\n",
        "train=model.fit(train_X,train_Y,batch_size=batch_size,epochs=epochs,verbose=1)"
      ],
      "metadata": {
        "colab": {
          "base_uri": "https://localhost:8080/"
        },
        "id": "zjQLFYC0ABo0",
        "outputId": "a7582dac-e24a-4978-83fa-396f34c86e10"
      },
      "execution_count": 8,
      "outputs": [
        {
          "output_type": "stream",
          "name": "stdout",
          "text": [
            "Model: \"sequential\"\n",
            "_________________________________________________________________\n",
            " Layer (type)                Output Shape              Param #   \n",
            "=================================================================\n",
            " conv2d (Conv2D)             (None, 28, 28, 32)        320       \n",
            "                                                                 \n",
            " leaky_re_lu (LeakyReLU)     (None, 28, 28, 32)        0         \n",
            "                                                                 \n",
            " max_pooling2d (MaxPooling2D  (None, 14, 14, 32)       0         \n",
            " )                                                               \n",
            "                                                                 \n",
            " conv2d_1 (Conv2D)           (None, 14, 14, 64)        18496     \n",
            "                                                                 \n",
            " leaky_re_lu_1 (LeakyReLU)   (None, 14, 14, 64)        0         \n",
            "                                                                 \n",
            " max_pooling2d_1 (MaxPooling  (None, 7, 7, 64)         0         \n",
            " 2D)                                                             \n",
            "                                                                 \n",
            " conv2d_2 (Conv2D)           (None, 7, 7, 128)         73856     \n",
            "                                                                 \n",
            " leaky_re_lu_2 (LeakyReLU)   (None, 7, 7, 128)         0         \n",
            "                                                                 \n",
            " max_pooling2d_2 (MaxPooling  (None, 4, 4, 128)        0         \n",
            " 2D)                                                             \n",
            "                                                                 \n",
            " flatten (Flatten)           (None, 2048)              0         \n",
            "                                                                 \n",
            " dense (Dense)               (None, 128)               262272    \n",
            "                                                                 \n",
            " leaky_re_lu_3 (LeakyReLU)   (None, 128)               0         \n",
            "                                                                 \n",
            " dense_1 (Dense)             (None, 10)                1290      \n",
            "                                                                 \n",
            "=================================================================\n",
            "Total params: 356,234\n",
            "Trainable params: 356,234\n",
            "Non-trainable params: 0\n",
            "_________________________________________________________________\n",
            "Epoch 1/20\n",
            "938/938 [==============================] - 13s 4ms/step - loss: 0.4353 - accuracy: 0.8407\n",
            "Epoch 2/20\n",
            "938/938 [==============================] - 4s 4ms/step - loss: 0.2748 - accuracy: 0.8993\n",
            "Epoch 3/20\n",
            "938/938 [==============================] - 5s 5ms/step - loss: 0.2280 - accuracy: 0.9160\n",
            "Epoch 4/20\n",
            "938/938 [==============================] - 4s 4ms/step - loss: 0.1990 - accuracy: 0.9257\n",
            "Epoch 5/20\n",
            "938/938 [==============================] - 4s 4ms/step - loss: 0.1739 - accuracy: 0.9364\n",
            "Epoch 6/20\n",
            "938/938 [==============================] - 4s 5ms/step - loss: 0.1525 - accuracy: 0.9429\n",
            "Epoch 7/20\n",
            "938/938 [==============================] - 4s 4ms/step - loss: 0.1313 - accuracy: 0.9517\n",
            "Epoch 8/20\n",
            "938/938 [==============================] - 4s 4ms/step - loss: 0.1134 - accuracy: 0.9578\n",
            "Epoch 9/20\n",
            "938/938 [==============================] - 4s 4ms/step - loss: 0.0979 - accuracy: 0.9627\n",
            "Epoch 10/20\n",
            "938/938 [==============================] - 5s 5ms/step - loss: 0.0825 - accuracy: 0.9681\n",
            "Epoch 11/20\n",
            "938/938 [==============================] - 4s 4ms/step - loss: 0.0705 - accuracy: 0.9728\n",
            "Epoch 12/20\n",
            "938/938 [==============================] - 4s 4ms/step - loss: 0.0615 - accuracy: 0.9774\n",
            "Epoch 13/20\n",
            "938/938 [==============================] - 5s 5ms/step - loss: 0.0525 - accuracy: 0.9806\n",
            "Epoch 14/20\n",
            "938/938 [==============================] - 4s 4ms/step - loss: 0.0488 - accuracy: 0.9821\n",
            "Epoch 15/20\n",
            "938/938 [==============================] - 5s 5ms/step - loss: 0.0421 - accuracy: 0.9842\n",
            "Epoch 16/20\n",
            "938/938 [==============================] - 8s 8ms/step - loss: 0.0381 - accuracy: 0.9858\n",
            "Epoch 17/20\n",
            "938/938 [==============================] - 4s 4ms/step - loss: 0.0385 - accuracy: 0.9859\n",
            "Epoch 18/20\n",
            "938/938 [==============================] - 4s 4ms/step - loss: 0.0341 - accuracy: 0.9872\n",
            "Epoch 19/20\n",
            "938/938 [==============================] - 5s 5ms/step - loss: 0.0295 - accuracy: 0.9893\n",
            "Epoch 20/20\n",
            "938/938 [==============================] - 4s 4ms/step - loss: 0.0323 - accuracy: 0.9883\n"
          ]
        }
      ]
    },
    {
      "cell_type": "code",
      "source": [
        "model.save(\"/content/drive/MyDrive/Colab Notebooks/BT/deep_learning.h5\")"
      ],
      "metadata": {
        "id": "Bj12u8nFFCvT"
      },
      "execution_count": 9,
      "outputs": []
    },
    {
      "cell_type": "code",
      "source": [
        "eval=model.evaluate(test_X,test_Y,verbose=0)\n",
        "print('test loss:',eval[0])\n",
        "print('test accuracy:',eval[1])\n"
      ],
      "metadata": {
        "colab": {
          "base_uri": "https://localhost:8080/"
        },
        "id": "1DfII73qGkSm",
        "outputId": "c3d07d69-e156-4a34-896b-20bc4032857b"
      },
      "execution_count": 10,
      "outputs": [
        {
          "output_type": "stream",
          "name": "stdout",
          "text": [
            "test loss: 144.01739501953125\n",
            "test accuracy: 0.8439000248908997\n"
          ]
        }
      ]
    },
    {
      "cell_type": "code",
      "source": [
        "accuracy=train.history['accuracy']\n",
        "val_accuracy=train.history['loss']\n",
        "epochs=range(len(accuracy))\n",
        "plt.plot(epochs,accuracy,'bo',label='Training Accuracy')\n",
        "plt.plot(epochs,val_accuracy,'b',label='Test Accuracy')\n",
        "plt.title('Training & Testing Accuracy')\n"
      ],
      "metadata": {
        "id": "7xs_Zp0cQnyD",
        "outputId": "bcb6d58d-40af-4153-91b4-b43b1c8086e2",
        "colab": {
          "base_uri": "https://localhost:8080/",
          "height": 470
        }
      },
      "execution_count": 11,
      "outputs": [
        {
          "output_type": "execute_result",
          "data": {
            "text/plain": [
              "Text(0.5, 1.0, 'Training & Testing Accuracy')"
            ]
          },
          "metadata": {},
          "execution_count": 11
        },
        {
          "output_type": "display_data",
          "data": {
            "text/plain": [
              "<Figure size 640x480 with 1 Axes>"
            ],
            "image/png": "[encoded data removed]"
          },
          "metadata": {}
        }
      ]
    },
    {
      "cell_type": "code",
      "source": [
        "from keras.datasets  import cifar100\n",
        "(x_train,y_train),(x_test,y_test)=cifar100.load_data()\n",
        "print(x_train.shape)\n",
        "x_train.shape\n",
        "x_test.shape"
      ],
      "metadata": {
        "id": "qts_HLBSSh2K",
        "outputId": "04ea7965-2a29-4df7-e3a7-c94c15198583",
        "colab": {
          "base_uri": "https://localhost:8080/"
        }
      },
      "execution_count": 12,
      "outputs": [
        {
          "output_type": "stream",
          "name": "stdout",
          "text": [
            "Downloading data from https://www.cs.toronto.edu/~kriz/cifar-100-python.tar.gz\n",
            "169001437/169001437 [==============================] - 2s 0us/step\n",
            "(50000, 32, 32, 3)\n"
          ]
        },
        {
          "output_type": "execute_result",
          "data": {
            "text/plain": [
              "(10000, 32, 32, 3)"
            ]
          },
          "metadata": {},
          "execution_count": 12
        }
      ]
    },
    {
      "cell_type": "code",
      "source": [
        "from keras.models import Sequential\n",
        "from keras.layers import Dense\n",
        "\n",
        "x_train = x_train.reshape(50000,32*32*3)\n",
        "x_test= x_test.reshape(10000,32*32*3)"
      ],
      "metadata": {
        "id": "MbJKtdEbTxic"
      },
      "execution_count": 13,
      "outputs": []
    },
    {
      "cell_type": "code",
      "source": [
        "x_train_1= x_train.astype('float32')/255\n",
        "\n",
        "x_test_1= x_test.astype('float32')/255\n",
        "\n",
        "from keras.utils import to_categorical \n",
        "y_train_1= to_categorical(y_train,100)\n",
        "y_test_1= to_categorical(y_test,100)\n",
        "print(y_test)"
      ],
      "metadata": {
        "id": "PLCX2oqGT14A",
        "outputId": "6197aadc-e88e-4879-84ad-7a82413fadd7",
        "colab": {
          "base_uri": "https://localhost:8080/"
        }
      },
      "execution_count": 14,
      "outputs": [
        {
          "output_type": "stream",
          "name": "stdout",
          "text": [
            "[[49]\n",
            " [33]\n",
            " [72]\n",
            " ...\n",
            " [51]\n",
            " [42]\n",
            " [70]]\n"
          ]
        }
      ]
    },
    {
      "cell_type": "code",
      "source": [
        "model=models.Sequential()\n",
        "model.add(Dense(2000,input_shape=(32*32*3,),activation=\"relu\"))\n",
        "model.add(Dense(1000,activation=\"relu\"))\n",
        "model.add(Dense(100,activation=\"linear\",name=\"Softmax\"))\n",
        "model.summary"
      ],
      "metadata": {
        "id": "dCgokcAvT3wv",
        "outputId": "1d077b16-fa19-4bd5-afad-d450cfaa9612",
        "colab": {
          "base_uri": "https://localhost:8080/"
        }
      },
      "execution_count": 15,
      "outputs": [
        {
          "output_type": "execute_result",
          "data": {
            "text/plain": [
              "<bound method Model.summary of <keras.engine.sequential.Sequential object at 0x7f68fd236af0>>"
            ]
          },
          "metadata": {},
          "execution_count": 15
        }
      ]
    },
    {
      "cell_type": "code",
      "source": [
        "model.compile(optimizer='rmsprop',loss='categorical_crossentropy',metrics=['accuracy'])\n",
        "model.fit(x_train_1,y_train_1,epochs=5,batch_size=128)\n",
        "test_lost,test_acc=model.evaluate(x_test_1,y_test_1)\n",
        "print('test_accuracy',test_acc)\n",
        "print('test_lost',test_lost)"
      ],
      "metadata": {
        "id": "NJNzj0QtT5_b",
        "outputId": "b16e8b62-9e70-4e53-a9b5-26c9fbe45258",
        "colab": {
          "base_uri": "https://localhost:8080/"
        }
      },
      "execution_count": 16,
      "outputs": [
        {
          "output_type": "stream",
          "name": "stdout",
          "text": [
            "Epoch 1/5\n",
            "391/391 [==============================] - 4s 6ms/step - loss: 8.0261 - accuracy: 0.0099\n",
            "Epoch 2/5\n",
            "391/391 [==============================] - 3s 8ms/step - loss: 7.5755 - accuracy: 0.0100\n",
            "Epoch 3/5\n",
            "391/391 [==============================] - 3s 8ms/step - loss: 7.5755 - accuracy: 0.0100\n",
            "Epoch 4/5\n",
            "391/391 [==============================] - 2s 6ms/step - loss: 7.5755 - accuracy: 0.0100\n",
            "Epoch 5/5\n",
            "391/391 [==============================] - 2s 5ms/step - loss: 7.5755 - accuracy: 0.0100\n",
            "313/313 [==============================] - 1s 2ms/step - loss: 7.5755 - accuracy: 0.0100\n",
            "test_accuracy 0.009999999776482582\n",
            "test_lost 7.575506210327148\n"
          ]
        }
      ]
    }
  ]
}