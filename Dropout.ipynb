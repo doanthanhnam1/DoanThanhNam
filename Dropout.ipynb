{
  "nbformat": 4,
  "nbformat_minor": 0,
  "metadata": {
    "colab": {
      "provenance": [],
      "mount_file_id": "1eST2CNiD5syyTJJQYDaGWRjhyIHd79yw",
      "authorship_tag": "ABX9TyNdUko9efv57rob+BR1QWA3",
      "include_colab_link": true
    },
    "kernelspec": {
      "name": "python3",
      "display_name": "Python 3"
    },
    "language_info": {
      "name": "python"
    },
    "accelerator": "GPU",
    "gpuClass": "standard"
  },
  "cells": [
    {
      "cell_type": "markdown",
      "metadata": {
        "id": "view-in-github",
        "colab_type": "text"
      },
      "source": [
        "<a href=\"https://colab.research.google.com/github/doanthanhnam1/DoanThanhNam/blob/main/Dropout.ipynb\" target=\"_parent\"><img src=\"https://colab.research.google.com/assets/colab-badge.svg\" alt=\"Open In Colab\"/></a>"
      ]
    },
    {
      "cell_type": "code",
      "execution_count": 54,
      "metadata": {
        "colab": {
          "base_uri": "https://localhost:8080/"
        },
        "id": "sIKEGFiL0iew",
        "outputId": "5548a274-3bf2-4274-b4c3-474157ee58fc"
      },
      "outputs": [
        {
          "output_type": "stream",
          "name": "stdout",
          "text": [
            "(50000, 32, 32, 3)\n"
          ]
        },
        {
          "output_type": "execute_result",
          "data": {
            "text/plain": [
              "(10000, 32, 32, 3)"
            ]
          },
          "metadata": {},
          "execution_count": 54
        }
      ],
      "source": [
        "from keras.datasets  import mnist\n",
        "from keras.datasets  import cifar100\n",
        "import matplotlib.pyplot as plt\n",
        "from keras import models  \n",
        "(x_train,y_train),(x_test,y_test)=cifar100.load_data()\n",
        "print(x_train.shape)\n",
        "x_train.shape\n",
        "x_test.shape"
      ]
    },
    {
      "cell_type": "code",
      "source": [
        "from keras.models import Sequential\n",
        "from keras.layers import Dense\n",
        "\n",
        "x_train = x_train.reshape(50000,32,32,3)\n",
        "x_test= x_test.reshape(10000,32,32,3)"
      ],
      "metadata": {
        "id": "XcaPACUH0ytC"
      },
      "execution_count": 55,
      "outputs": []
    },
    {
      "cell_type": "code",
      "source": [
        "x_train_1= x_train.astype('float32')/255\n",
        "\n",
        "x_test_1= x_test.astype('float32')/255\n",
        "\n",
        "from keras.utils import to_categorical \n",
        "y_train_1= to_categorical(y_train,100)\n",
        "y_test_1= to_categorical(y_test,100)\n",
        "print(y_train)"
      ],
      "metadata": {
        "colab": {
          "base_uri": "https://localhost:8080/"
        },
        "id": "5orVFBod1Ir2",
        "outputId": "a194038a-bfe9-42ea-e2fd-2b15fd928c05"
      },
      "execution_count": 56,
      "outputs": [
        {
          "output_type": "stream",
          "name": "stdout",
          "text": [
            "[[19]\n",
            " [29]\n",
            " [ 0]\n",
            " ...\n",
            " [ 3]\n",
            " [ 7]\n",
            " [73]]\n"
          ]
        }
      ]
    },
    {
      "cell_type": "code",
      "source": [
        "from keras import models \n",
        "from keras.models import Sequential,Model\n",
        "from keras import Input\n",
        "from keras.layers import Dense,Flatten,Dropout,Conv2D,MaxPooling2D,Normalization\n",
        "from keras.optimizers import Adam\n",
        "batch_size=64 #lô\n",
        "epochs=20     #số lần học\n",
        "classes=100    #phân loại"
      ],
      "metadata": {
        "id": "EHdi5z9B1VsW"
      },
      "execution_count": 57,
      "outputs": []
    },
    {
      "cell_type": "code",
      "source": [
        "model=Sequential()\n",
        "model.add(Conv2D(32,kernel_size=(3,3),activation='linear',input_shape=(32,32,3),padding='same'))\n",
        "model.add(MaxPooling2D((2,2),padding='same'))\n",
        "model.add(Dropout(0.25))\n",
        "#so lan tich chap\n",
        "model.add(Conv2D(64,(3,3),activation='linear',padding='same'))\n",
        "model.add(MaxPooling2D((2,2),padding='same'))"
      ],
      "metadata": {
        "id": "KoWZU73U1Y74"
      },
      "execution_count": 58,
      "outputs": []
    },
    {
      "cell_type": "code",
      "source": [
        "model.add(Conv2D(128,(3,3),activation='linear',padding='same'))\n",
        "model.add(Dropout(0.25))\n",
        "model.add(MaxPooling2D((2,2),padding='same'))"
      ],
      "metadata": {
        "id": "MYziXpa815l8"
      },
      "execution_count": 59,
      "outputs": []
    },
    {
      "cell_type": "code",
      "source": [
        "from keras import optimizers\n",
        "from keras import losses\n",
        "model.add(Flatten())\n",
        "model.add(Dense(128,activation='linear'))\n",
        "model.add(Dropout(0.25))\n",
        "model.add(Dense(1000,activation='linear'))\n",
        "model.add(Dense(500,activation='linear'))\n",
        "model.add(Dense(classes,activation='softmax'))\n",
        "model.compile(loss=losses.categorical_crossentropy,optimizer=Adam(),metrics=['accuracy'])\n",
        "model.summary()\n"
      ],
      "metadata": {
        "colab": {
          "base_uri": "https://localhost:8080/"
        },
        "id": "CrJdPOiM17O4",
        "outputId": "81d062db-2da2-4c41-e639-4a28106cb631"
      },
      "execution_count": 60,
      "outputs": [
        {
          "output_type": "stream",
          "name": "stdout",
          "text": [
            "Model: \"sequential_6\"\n",
            "_________________________________________________________________\n",
            " Layer (type)                Output Shape              Param #   \n",
            "=================================================================\n",
            " conv2d_11 (Conv2D)          (None, 32, 32, 32)        896       \n",
            "                                                                 \n",
            " max_pooling2d_9 (MaxPooling  (None, 16, 16, 32)       0         \n",
            " 2D)                                                             \n",
            "                                                                 \n",
            " dropout (Dropout)           (None, 16, 16, 32)        0         \n",
            "                                                                 \n",
            " conv2d_12 (Conv2D)          (None, 16, 16, 64)        18496     \n",
            "                                                                 \n",
            " max_pooling2d_10 (MaxPoolin  (None, 8, 8, 64)         0         \n",
            " g2D)                                                            \n",
            "                                                                 \n",
            " conv2d_13 (Conv2D)          (None, 8, 8, 128)         73856     \n",
            "                                                                 \n",
            " dropout_1 (Dropout)         (None, 8, 8, 128)         0         \n",
            "                                                                 \n",
            " max_pooling2d_11 (MaxPoolin  (None, 4, 4, 128)        0         \n",
            " g2D)                                                            \n",
            "                                                                 \n",
            " flatten_3 (Flatten)         (None, 2048)              0         \n",
            "                                                                 \n",
            " dense_10 (Dense)            (None, 128)               262272    \n",
            "                                                                 \n",
            " dropout_2 (Dropout)         (None, 128)               0         \n",
            "                                                                 \n",
            " dense_11 (Dense)            (None, 1000)              129000    \n",
            "                                                                 \n",
            " dense_12 (Dense)            (None, 500)               500500    \n",
            "                                                                 \n",
            " dense_13 (Dense)            (None, 100)               50100     \n",
            "                                                                 \n",
            "=================================================================\n",
            "Total params: 1,035,120\n",
            "Trainable params: 1,035,120\n",
            "Non-trainable params: 0\n",
            "_________________________________________________________________\n"
          ]
        }
      ]
    },
    {
      "cell_type": "code",
      "source": [
        "train=model.fit(x_train_1,y_train_1,batch_size=batch_size,epochs=epochs,verbose=1)"
      ],
      "metadata": {
        "colab": {
          "base_uri": "https://localhost:8080/"
        },
        "id": "4ReuApNb18fe",
        "outputId": "fd262791-adb7-42ef-c7fb-c6dfd3e318ee"
      },
      "execution_count": 61,
      "outputs": [
        {
          "output_type": "stream",
          "name": "stdout",
          "text": [
            "Epoch 1/20\n",
            "782/782 [==============================] - 5s 5ms/step - loss: 3.6231 - accuracy: 0.1514\n",
            "Epoch 2/20\n",
            "782/782 [==============================] - 4s 6ms/step - loss: 3.0679 - accuracy: 0.2504\n",
            "Epoch 3/20\n",
            "782/782 [==============================] - 4s 5ms/step - loss: 2.8763 - accuracy: 0.2880\n",
            "Epoch 4/20\n",
            "782/782 [==============================] - 4s 5ms/step - loss: 2.7527 - accuracy: 0.3108\n",
            "Epoch 5/20\n",
            "782/782 [==============================] - 4s 5ms/step - loss: 2.6575 - accuracy: 0.3300\n",
            "Epoch 6/20\n",
            "782/782 [==============================] - 4s 5ms/step - loss: 2.5806 - accuracy: 0.3468\n",
            "Epoch 7/20\n",
            "782/782 [==============================] - 4s 5ms/step - loss: 2.5140 - accuracy: 0.3587\n",
            "Epoch 8/20\n",
            "782/782 [==============================] - 4s 5ms/step - loss: 2.4707 - accuracy: 0.3702\n",
            "Epoch 9/20\n",
            "782/782 [==============================] - 4s 6ms/step - loss: 2.4147 - accuracy: 0.3800\n",
            "Epoch 10/20\n",
            "782/782 [==============================] - 4s 5ms/step - loss: 2.3692 - accuracy: 0.3898\n",
            "Epoch 11/20\n",
            "782/782 [==============================] - 4s 5ms/step - loss: 2.3399 - accuracy: 0.3952\n",
            "Epoch 12/20\n",
            "782/782 [==============================] - 5s 6ms/step - loss: 2.3006 - accuracy: 0.4023\n",
            "Epoch 13/20\n",
            "782/782 [==============================] - 4s 5ms/step - loss: 2.2640 - accuracy: 0.4133\n",
            "Epoch 14/20\n",
            "782/782 [==============================] - 4s 5ms/step - loss: 2.2403 - accuracy: 0.4185\n",
            "Epoch 15/20\n",
            "782/782 [==============================] - 4s 6ms/step - loss: 2.2003 - accuracy: 0.4272\n",
            "Epoch 16/20\n",
            "782/782 [==============================] - 4s 5ms/step - loss: 2.1748 - accuracy: 0.4312\n",
            "Epoch 17/20\n",
            "782/782 [==============================] - 4s 5ms/step - loss: 2.1585 - accuracy: 0.4360\n",
            "Epoch 18/20\n",
            "782/782 [==============================] - 4s 5ms/step - loss: 2.1326 - accuracy: 0.4412\n",
            "Epoch 19/20\n",
            "782/782 [==============================] - 4s 5ms/step - loss: 2.1178 - accuracy: 0.4427\n",
            "Epoch 20/20\n",
            "782/782 [==============================] - 4s 5ms/step - loss: 2.0978 - accuracy: 0.4453\n"
          ]
        }
      ]
    },
    {
      "cell_type": "code",
      "source": [
        "import pandas as pd\n",
        "pd.DataFrame(train.history).plot(figsize=(8,5))"
      ],
      "metadata": {
        "colab": {
          "base_uri": "https://localhost:8080/",
          "height": 463
        },
        "id": "0h23Utz_2Syf",
        "outputId": "2183ce5d-bfca-41d5-bac8-cb38f97fc74a"
      },
      "execution_count": 62,
      "outputs": [
        {
          "output_type": "execute_result",
          "data": {
            "text/plain": [
              "<Axes: >"
            ]
          },
          "metadata": {},
          "execution_count": 62
        },
        {
          "output_type": "display_data",
          "data": {
            "text/plain": [
              "<Figure size 800x500 with 1 Axes>"
            ],
            "image/png": "[encoded data removed]"
          },
          "metadata": {}
        }
      ]
    },
    {
      "cell_type": "code",
      "source": [
        "plt.grid(True)"
      ],
      "metadata": {
        "colab": {
          "base_uri": "https://localhost:8080/",
          "height": 435
        },
        "id": "3ZvhCe3t2bzn",
        "outputId": "87c05fd0-a785-452e-d199-d78cba29b48c"
      },
      "execution_count": 63,
      "outputs": [
        {
          "output_type": "display_data",
          "data": {
            "text/plain": [
              "<Figure size 640x480 with 1 Axes>"
            ],
            "image/png": "[encoded data removed]"
          },
          "metadata": {}
        }
      ]
    },
    {
      "cell_type": "code",
      "source": [
        "model.save(\"/content/drive/MyDrive/Colab Notebooks/BT/cifar100_dropout.h5\")"
      ],
      "metadata": {
        "id": "U_lSNl-14eBu"
      },
      "execution_count": 65,
      "outputs": []
    }
  ]
}