{
  "nbformat": 4,
  "nbformat_minor": 0,
  "metadata": {
    "colab": {
      "provenance": [],
      "mount_file_id": "13iM6MGjkFHJ1Tos1605-HAmVsHHaEuRN",
      "authorship_tag": "ABX9TyMbL4Nd+gT1p/J2A0VlNacS",
      "include_colab_link": true
    },
    "kernelspec": {
      "name": "python3",
      "display_name": "Python 3"
    },
    "language_info": {
      "name": "python"
    }
  },
  "cells": [
    {
      "cell_type": "markdown",
      "metadata": {
        "id": "view-in-github",
        "colab_type": "text"
      },
      "source": [
        "<a href=\"https://colab.research.google.com/github/doanthanhnam1/DoanThanhNam/blob/main/NAM_QUANG.ipynb\" target=\"_parent\"><img src=\"https://colab.research.google.com/assets/colab-badge.svg\" alt=\"Open In Colab\"/></a>"
      ]
    },
    {
      "cell_type": "code",
      "execution_count": 24,
      "metadata": {
        "id": "hSauPaeBHimU"
      },
      "outputs": [],
      "source": [
        "from os import listdir\n",
        "from numpy import asarray\n",
        "from numpy import save\n",
        "from keras import preprocessing\n",
        "from tensorflow.keras.utils import load_img, img_to_array\n",
        "folder='/content/drive/MyDrive/AI/'\n"
      ]
    },
    {
      "cell_type": "code",
      "source": [
        "photos,labels=list(),list()\n",
        "for file in listdir(folder):\n",
        "  output=0.0\n",
        "  if file.startswith('QUANG'):\n",
        "    output=1.0\n",
        "  if file.startswith('NAM'):\n",
        "    output=2.0\n",
        "  photo=load_img(folder+file,target_size=(200,200))\n",
        "  photo=img_to_array(photo)\n",
        "  photos.append(photo)\n",
        "  labels.append(output)\n",
        "photos=asarray(photos)\n",
        "labels=asarray(labels)\n",
        "save('QUANG_NAM_photo.npy',photos)\n",
        "save('QUANG_NAM_photo.npy',labels)"
      ],
      "metadata": {
        "id": "Unv7vCj8Lscl"
      },
      "execution_count": 26,
      "outputs": []
    },
    {
      "cell_type": "code",
      "source": [],
      "metadata": {
        "id": "jQcAt5voPAkI"
      },
      "execution_count": null,
      "outputs": []
    }
  ]
}