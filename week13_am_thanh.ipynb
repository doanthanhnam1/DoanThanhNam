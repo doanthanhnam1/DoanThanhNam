{
  "nbformat": 4,
  "nbformat_minor": 0,
  "metadata": {
    "colab": {
      "provenance": [],
      "mount_file_id": "1IBGYM1l40rghwA8Maaw0iQZHRWW5iwXs",
      "authorship_tag": "ABX9TyO9kkd+NzjzU5hLyIpwAspj",
      "include_colab_link": true
    },
    "kernelspec": {
      "name": "python3",
      "display_name": "Python 3"
    },
    "language_info": {
      "name": "python"
    },
    "accelerator": "GPU",
    "gpuClass": "standard"
  },
  "cells": [
    {
      "cell_type": "markdown",
      "metadata": {
        "id": "view-in-github",
        "colab_type": "text"
      },
      "source": [
        "<a href=\"https://colab.research.google.com/github/doanthanhnam1/DoanThanhNam/blob/main/week13_am_thanh.ipynb\" target=\"_parent\"><img src=\"https://colab.research.google.com/assets/colab-badge.svg\" alt=\"Open In Colab\"/></a>"
      ]
    },
    {
      "cell_type": "code",
      "execution_count": 1,
      "metadata": {
        "colab": {
          "base_uri": "https://localhost:8080/"
        },
        "id": "r-9TpFMZ2nQe",
        "outputId": "b6220f50-f159-4605-d641-df6d4eac6a38"
      },
      "outputs": [
        {
          "output_type": "stream",
          "name": "stdout",
          "text": [
            "Looking in indexes: https://pypi.org/simple, https://us-python.pkg.dev/colab-wheels/public/simple/\n",
            "Collecting youtube_search\n",
            "  Downloading youtube_search-2.1.2-py3-none-any.whl (3.4 kB)\n",
            "Requirement already satisfied: requests in /usr/local/lib/python3.9/dist-packages (from youtube_search) (2.27.1)\n",
            "Requirement already satisfied: charset-normalizer~=2.0.0 in /usr/local/lib/python3.9/dist-packages (from requests->youtube_search) (2.0.12)\n",
            "Requirement already satisfied: urllib3<1.27,>=1.21.1 in /usr/local/lib/python3.9/dist-packages (from requests->youtube_search) (1.26.15)\n",
            "Requirement already satisfied: certifi>=2017.4.17 in /usr/local/lib/python3.9/dist-packages (from requests->youtube_search) (2022.12.7)\n",
            "Requirement already satisfied: idna<4,>=2.5 in /usr/local/lib/python3.9/dist-packages (from requests->youtube_search) (3.4)\n",
            "Installing collected packages: youtube_search\n",
            "Successfully installed youtube_search-2.1.2\n"
          ]
        }
      ],
      "source": [
        "pip install youtube_search"
      ]
    },
    {
      "cell_type": "code",
      "source": [
        "from youtube_search import YoutubeSearch\n",
        "import webbrowser\n",
        "mysong=input('Nhập vào tên bài hát: ')\n",
        "result = YoutubeSearch(mysong, max_results = 10).to_dict()\n",
        "print(result)"
      ],
      "metadata": {
        "colab": {
          "base_uri": "https://localhost:8080/"
        },
        "id": "4xTZnbWX5Bdn",
        "outputId": "ba8624db-2808-4854-9bb4-e4bfd09f167f"
      },
      "execution_count": 3,
      "outputs": [
        {
          "output_type": "stream",
          "name": "stdout",
          "text": [
            "Nhập vào tên bài hát: là anh\n",
            "[{'id': 'Yd5FT7RaAM4', 'thumbnails': ['https://i.ytimg.com/vi/Yd5FT7RaAM4/hq720.jpg?sqp=-oaymwEjCOgCEMoBSFryq4qpAxUIARUAAAAAGAElAADIQj0AgKJDeAE=&rs=AOn4CLDakN1JjLmBaWiSfTFO84k006EnzQ', 'https://i.ytimg.com/vi/Yd5FT7RaAM4/hq720.jpg?sqp=-oaymwEXCNAFEJQDSFryq4qpAwkIARUAAIhCGAE=&rs=AOn4CLDM0ircxDdaAdG1CVQlInGAo1YAJg'], 'title': 'Là Anh - Phạm Lịch [ Official Lyrics Video]', 'long_desc': None, 'channel': 'PHẠM LỊCH 🎶', 'duration': '3:32', 'views': '427,759 views', 'publish_time': '1 month ago', 'url_suffix': '/watch?v=Yd5FT7RaAM4&pp=ygUHbMOgIGFuaA%3D%3D'}, {'id': 'q8AzTS4Yq3I', 'thumbnails': ['https://i.ytimg.com/vi/q8AzTS4Yq3I/hq720.jpg?sqp=-oaymwEjCOgCEMoBSFryq4qpAxUIARUAAAAAGAElAADIQj0AgKJDeAE=&rs=AOn4CLCz0BuG0-VvJQVhtX4eo6oazahGKA', 'https://i.ytimg.com/vi/q8AzTS4Yq3I/hq720.jpg?sqp=-oaymwEXCNAFEJQDSFryq4qpAwkIARUAAIhCGAE=&rs=AOn4CLDXyjx6pbjT8tb_9vjCd6XC3aEEjg'], 'title': '[Vietsub] Là anh - Mộng Nhiên | 是你 - 夢然', 'long_desc': None, 'channel': 'Quyên Louis', 'duration': '3:42', 'views': '7,286,361 views', 'publish_time': '7 months ago', 'url_suffix': '/watch?v=q8AzTS4Yq3I&pp=ygUHbMOgIGFuaA%3D%3D'}, {'id': '6-LmZLjS5WI', 'thumbnails': ['https://i.ytimg.com/vi/6-LmZLjS5WI/hq720.jpg?sqp=-oaymwEjCOgCEMoBSFryq4qpAxUIARUAAAAAGAElAADIQj0AgKJDeAE=&rs=AOn4CLB4mhpf_4DnjflJPV-0chbl2T7vcQ', 'https://i.ytimg.com/vi/6-LmZLjS5WI/hq720.jpg?sqp=-oaymwEXCNAFEJQDSFryq4qpAwkIARUAAIhCGAE=&rs=AOn4CLBNW9BsbiYX45H3uI8OPhPfVCoVCQ'], 'title': 'LÀ ANH - Cover Nhạc Ngoại Lời Việt by PHẠM LỊCH ( It’s You -Mộng Nhiên)', 'long_desc': None, 'channel': 'PHẠM LỊCH 🎶', 'duration': '3:43', 'views': '17,241,163 views', 'publish_time': '1 month ago', 'url_suffix': '/watch?v=6-LmZLjS5WI&pp=ygUHbMOgIGFuaA%3D%3D'}, {'id': 'mVQ_rZzJiiw', 'thumbnails': ['https://i.ytimg.com/vi/mVQ_rZzJiiw/hq720.jpg?sqp=-oaymwEjCOgCEMoBSFryq4qpAxUIARUAAAAAGAElAADIQj0AgKJDeAE=&rs=AOn4CLBwCIKlx06juqr4FHGeGMCpFTC6AQ', 'https://i.ytimg.com/vi/mVQ_rZzJiiw/hq720.jpg?sqp=-oaymwEXCNAFEJQDSFryq4qpAwkIARUAAIhCGAE=&rs=AOn4CLArZ4pEloHjFvWWEuAcBfeLi2qUCw'], 'title': '是你', 'long_desc': None, 'channel': 'Mira - Topic', 'duration': '3:44', 'views': '2,680,490 views', 'publish_time': 0, 'url_suffix': '/watch?v=mVQ_rZzJiiw&pp=ygUHbMOgIGFuaA%3D%3D'}, {'id': 'cYs6uN5vsfs', 'thumbnails': ['https://i.ytimg.com/vi/cYs6uN5vsfs/hq720.jpg?sqp=-oaymwEjCOgCEMoBSFryq4qpAxUIARUAAAAAGAElAADIQj0AgKJDeAE=&rs=AOn4CLBLXANRUHyHo6II3q_p0n0O4xx2OA', 'https://i.ytimg.com/vi/cYs6uN5vsfs/hq720.jpg?sqp=-oaymwEXCNAFEJQDSFryq4qpAwkIARUAAIhCGAE=&rs=AOn4CLBhlo8AmP3FV5RBxPbz0bef1Ifl0w'], 'title': 'Là Anh - Này Không Gian Bao La Thuộc Về Cho Riêng Cho Hai Ta| Nhạc Trẻ Đang Hot Nhất Tiktok Hiện Nay', 'long_desc': None, 'channel': 'Ngày Buồn Nhất', 'duration': '1:34:10', 'views': '198,544 views', 'publish_time': '1 month ago', 'url_suffix': '/watch?v=cYs6uN5vsfs&pp=ygUHbMOgIGFuaA%3D%3D'}, {'id': 'K4tmy9PK4Is', 'thumbnails': ['https://i.ytimg.com/vi/K4tmy9PK4Is/hq720.jpg?sqp=-oaymwE9COgCEMoBSFryq4qpAy8IARUAAAAAGAElAADIQj0AgKJDeAHwAQH4Af4JgALQBYoCDAgAEAEYciBDKF8wDw==&rs=AOn4CLCMWSuBgK77itME4Ovv9n5Xrm-YfA', 'https://i.ytimg.com/vi/K4tmy9PK4Is/hq720.jpg?sqp=-oaymwExCNAFEJQDSFryq4qpAyMIARUAAIhCGAHwAQH4Af4JgALQBYoCDAgAEAEYciBDKF8wDw==&rs=AOn4CLBHPFHxGzVh0fsVHKcnEJpisOfEsw'], 'title': 'Cùng Đi Cùng Đi Ngàn Năm Về Sau Mình Vẫn Có Nhau.. Là Anh Lofi ♫ Nhạc Lofi Chill Hot TikTok 2023', 'long_desc': None, 'channel': 'Cây Bàng Non', 'duration': '2:02:44', 'views': '803,962 views', 'publish_time': '1 month ago', 'url_suffix': '/watch?v=K4tmy9PK4Is&pp=ygUHbMOgIGFuaA%3D%3D'}, {'id': 'EZRp1ysuq2I', 'thumbnails': ['https://i.ytimg.com/vi/EZRp1ysuq2I/hq720.jpg?sqp=-oaymwEjCOgCEMoBSFryq4qpAxUIARUAAAAAGAElAADIQj0AgKJDeAE=&rs=AOn4CLCrs9qQl3vb8QhRY9pm4mr46XB90g', 'https://i.ytimg.com/vi/EZRp1ysuq2I/hq720.jpg?sqp=-oaymwEXCNAFEJQDSFryq4qpAwkIARUAAIhCGAE=&rs=AOn4CLA4JE251lIbl9v3nfb7wp_4dUyGcw'], 'title': 'LÀ ANH REMIX | NÀY KHÔNG GIAN BAO LA THUỘC VỀ CHO RIÊNG HAI TA REMIX HOT TIKTOK - NHẠC REMIX 2023', 'long_desc': None, 'channel': 'Việt Mix TV', 'duration': '1:15:36', 'views': '48,934 views', 'publish_time': '1 day ago', 'url_suffix': '/watch?v=EZRp1ysuq2I&pp=ygUHbMOgIGFuaA%3D%3D'}, {'id': 'dKFOVbcF6Cw', 'thumbnails': ['https://i.ytimg.com/vi/dKFOVbcF6Cw/hqdefault.jpg?sqp=-oaymwEjCOADEI4CSFryq4qpAxUIARUAAAAAGAElAADIQj0AgKJDeAE=&rs=AOn4CLAaG6gj1frwnH8gebFdkKdnnWwoHg'], 'title': 'Là Anh Remix , Này Không Gian Bao La Thuộc Về Cho Riêng Hai Ta Remix Hot TikTok - Lk Nhạc Remix 2023', 'long_desc': None, 'channel': 'Min Xinh', 'duration': '1:18:14', 'views': '37,035 views', 'publish_time': '16 hours ago', 'url_suffix': '/watch?v=dKFOVbcF6Cw&pp=ygUHbMOgIGFuaA%3D%3D'}, {'id': 'Ec3ioBgH_-s', 'thumbnails': ['https://i.ytimg.com/vi/Ec3ioBgH_-s/hq720.jpg?sqp=-oaymwEjCOgCEMoBSFryq4qpAxUIARUAAAAAGAElAADIQj0AgKJDeAE=&rs=AOn4CLAmvlLfwHSABAYYAC0GX_fwBcFpvg', 'https://i.ytimg.com/vi/Ec3ioBgH_-s/hq720.jpg?sqp=-oaymwEXCNAFEJQDSFryq4qpAwkIARUAAIhCGAE=&rs=AOn4CLBxLbSX47UHA3v1TeX4bVZT1u71cg'], 'title': 'Là Anh - Phạm Lịch | Lần Đầu Biểu Diễn Live Tại Mây Lang Thang', 'long_desc': None, 'channel': 'Mây Lang Thang', 'duration': '3:39', 'views': '739,442 views', 'publish_time': '2 weeks ago', 'url_suffix': '/watch?v=Ec3ioBgH_-s&pp=ygUHbMOgIGFuaA%3D%3D'}, {'id': 'aiqDHUXjM1c', 'thumbnails': ['https://i.ytimg.com/vi/aiqDHUXjM1c/hq720.jpg?sqp=-oaymwEjCOgCEMoBSFryq4qpAxUIARUAAAAAGAElAADIQj0AgKJDeAE=&rs=AOn4CLAlxEyhF-NBQ6026kevbNh1t8P2lg', 'https://i.ytimg.com/vi/aiqDHUXjM1c/hq720.jpg?sqp=-oaymwEXCNAFEJQDSFryq4qpAwkIARUAAIhCGAE=&rs=AOn4CLBgzq6Wm5Fv-OkN5eoStcXQMb41hA'], 'title': 'Là Anh - Phạm Lịch | Siêu Phẩm Âm Nhạc Cực Cuốn tại Mây Sài Gòn | Official Music Video', 'long_desc': None, 'channel': 'Mây Saigon Official ', 'duration': '4:09', 'views': '1,346,728 views', 'publish_time': '3 weeks ago', 'url_suffix': '/watch?v=aiqDHUXjM1c&pp=ygUHbMOgIGFuaA%3D%3D'}]\n"
          ]
        }
      ]
    },
    {
      "cell_type": "code",
      "source": [
        "\n",
        "for i in range (10):\n",
        "  print(result[i]['url_suffix'])\n",
        "  url='http://www.youtube.com'+result[0]['url_suffix']"
      ],
      "metadata": {
        "colab": {
          "base_uri": "https://localhost:8080/"
        },
        "id": "wGfw7Q2B6V7Z",
        "outputId": "702ae888-43f2-4227-8a52-811bfff93ae8"
      },
      "execution_count": 12,
      "outputs": [
        {
          "output_type": "stream",
          "name": "stdout",
          "text": [
            "/watch?v=Yd5FT7RaAM4&pp=ygUHbMOgIGFuaA%3D%3D\n",
            "/watch?v=q8AzTS4Yq3I&pp=ygUHbMOgIGFuaA%3D%3D\n",
            "/watch?v=6-LmZLjS5WI&pp=ygUHbMOgIGFuaA%3D%3D\n",
            "/watch?v=mVQ_rZzJiiw&pp=ygUHbMOgIGFuaA%3D%3D\n",
            "/watch?v=cYs6uN5vsfs&pp=ygUHbMOgIGFuaA%3D%3D\n",
            "/watch?v=K4tmy9PK4Is&pp=ygUHbMOgIGFuaA%3D%3D\n",
            "/watch?v=EZRp1ysuq2I&pp=ygUHbMOgIGFuaA%3D%3D\n",
            "/watch?v=dKFOVbcF6Cw&pp=ygUHbMOgIGFuaA%3D%3D\n",
            "/watch?v=Ec3ioBgH_-s&pp=ygUHbMOgIGFuaA%3D%3D\n",
            "/watch?v=aiqDHUXjM1c&pp=ygUHbMOgIGFuaA%3D%3D\n"
          ]
        }
      ]
    },
    {
      "cell_type": "code",
      "source": [
        "print(url)\n",
        "webbrowser.open(url)"
      ],
      "metadata": {
        "colab": {
          "base_uri": "https://localhost:8080/"
        },
        "id": "y_ODIUZq62Fu",
        "outputId": "6b371455-9911-4bde-f7a5-5a021bc8cbe8"
      },
      "execution_count": 13,
      "outputs": [
        {
          "output_type": "stream",
          "name": "stdout",
          "text": [
            "http://www.youtube.com/watch?v=Yd5FT7RaAM4&pp=ygUHbMOgIGFuaA%3D%3D\n"
          ]
        },
        {
          "output_type": "execute_result",
          "data": {
            "text/plain": [
              "False"
            ]
          },
          "metadata": {},
          "execution_count": 13
        }
      ]
    },
    {
      "cell_type": "markdown",
      "source": [
        "BT2"
      ],
      "metadata": {
        "id": "QI1PXbeb8vHJ"
      }
    },
    {
      "cell_type": "code",
      "source": [
        "from openpyxl import Workbook\n",
        "from youtube_search import YoutubeSearch\n",
        "import webbrowser\n",
        "data=Workbook()\n",
        "sheet=data.active\n",
        "mysong=input('xin mời bạn chọn bài hát: ')\n",
        "result=YoutubeSearch(mysong, max_results=10).to_dict()\n",
        "for i in range (10):\n",
        "  print(result[i]['title'])\n",
        "  print(result[i]['url_suffix'])\n",
        "  url='http://www.youtube.com'+result[i]['url_suffix']\n",
        "  print(url)\n",
        "  sheet['A'+str(i+1)]=i+1\n",
        "  sheet['B'+str(i+1)]=result[i]['title']\n",
        "  sheet['C'+str(i+1)]=result[i]['url_suffix']\n",
        "  sheet['D'+str(i+1)]=result[i]['views']\n",
        "  sheet['E'+str(i+1)]=result[i]['channel']\n",
        "  sheet['F'+str(i+1)]=result[i]['duration']\n",
        "  sheet['G'+str(i+1)]=result[i]['publish_time']\n",
        "  sheet['H'+str(i+1)]=result[i]['title']\n",
        "  sheet['I'+str(i+1)]=result[i]['long_desc']\n",
        "data.save('/content/drive/MyDrive/AI/week13.xlsx')"
      ],
      "metadata": {
        "colab": {
          "base_uri": "https://localhost:8080/"
        },
        "id": "JnzPBGSJ7KUd",
        "outputId": "976a271d-e241-422e-f42c-17766d8a0914"
      },
      "execution_count": 20,
      "outputs": [
        {
          "output_type": "stream",
          "name": "stdout",
          "text": [
            "xin mời bạn chọn bài hát: có chắc yêu là đây\n",
            "SƠN TÙNG M-TP | CÓ CHẮC YÊU LÀ ĐÂY | OFFICIAL MUSIC VIDEO\n",
            "/watch?v=6t-MjBazs3o&pp=ygUZY8OzIGNo4bqvYyB5w6p1IGzDoCDEkcOieQ%3D%3D\n",
            "http://www.youtube.com/watch?v=6t-MjBazs3o&pp=ygUZY8OzIGNo4bqvYyB5w6p1IGzDoCDEkcOieQ%3D%3D\n",
            "Bản Cover Xuất Sắc Nhất - CÓ CHẮC YÊU LÀ ĐÂY - SƠN TÙNG M-TP  | MOON NGA - VIEW ENTERTAINMENT Cover\n",
            "/watch?v=k2PR8Wkv8NU&pp=ygUZY8OzIGNo4bqvYyB5w6p1IGzDoCDEkcOieQ%3D%3D\n",
            "http://www.youtube.com/watch?v=k2PR8Wkv8NU&pp=ygUZY8OzIGNo4bqvYyB5w6p1IGzDoCDEkcOieQ%3D%3D\n",
            "SƠN TÙNG M-TP | MUỘN RỒI MÀ SAO CÒN | OFFICIAL MUSIC VIDEO\n",
            "/watch?v=xypzmu5mMPY&pp=ygUZY8OzIGNo4bqvYyB5w6p1IGzDoCDEkcOieQ%3D%3D\n",
            "http://www.youtube.com/watch?v=xypzmu5mMPY&pp=ygUZY8OzIGNo4bqvYyB5w6p1IGzDoCDEkcOieQ%3D%3D\n",
            "Iu Là Đây - Sean x Muộii x Anfang (OffIcial Visualizer)\n",
            "/watch?v=NPWJVZbrKm0&pp=ygUZY8OzIGNo4bqvYyB5w6p1IGzDoCDEkcOieQ%3D%3D\n",
            "http://www.youtube.com/watch?v=NPWJVZbrKm0&pp=ygUZY8OzIGNo4bqvYyB5w6p1IGzDoCDEkcOieQ%3D%3D\n",
            "Có Chắc Yêu Là Đây Cover\n",
            "/watch?v=4zIvTU8l2lg&pp=ygUZY8OzIGNo4bqvYyB5w6p1IGzDoCDEkcOieQ%3D%3D\n",
            "http://www.youtube.com/watch?v=4zIvTU8l2lg&pp=ygUZY8OzIGNo4bqvYyB5w6p1IGzDoCDEkcOieQ%3D%3D\n",
            "Có Chắc Yêu Là Đây (Lofi Ver.) - Anh Khoa x Freak D | St. Sơn Tùng M-TP\n",
            "/watch?v=0g7Na67jZlU&pp=ygUZY8OzIGNo4bqvYyB5w6p1IGzDoCDEkcOieQ%3D%3D\n",
            "http://www.youtube.com/watch?v=0g7Na67jZlU&pp=ygUZY8OzIGNo4bqvYyB5w6p1IGzDoCDEkcOieQ%3D%3D\n",
            "Iu là đây - Sean x Muội (SPEED UP) | Lyrics\n",
            "/watch?v=2ymEZv4UiZI&pp=ygUZY8OzIGNo4bqvYyB5w6p1IGzDoCDEkcOieQ%3D%3D\n",
            "http://www.youtube.com/watch?v=2ymEZv4UiZI&pp=ygUZY8OzIGNo4bqvYyB5w6p1IGzDoCDEkcOieQ%3D%3D\n",
            "SƠN TÙNG M-TP | TIGER REMIX COUNTDOWN STAGE | 2021\n",
            "/watch?v=_5cUW112Haw&pp=ygUZY8OzIGNo4bqvYyB5w6p1IGzDoCDEkcOieQ%3D%3D\n",
            "http://www.youtube.com/watch?v=_5cUW112Haw&pp=ygUZY8OzIGNo4bqvYyB5w6p1IGzDoCDEkcOieQ%3D%3D\n",
            "4 Mùa Thương Em Lofi, Nhất Trên Đời, Có Chắc Yêu Là Đây - Chiếc Nhạc Lofi Cực Chill Hot TikTok\n",
            "/watch?v=d32kUvK2If4&pp=ygUZY8OzIGNo4bqvYyB5w6p1IGzDoCDEkcOieQ%3D%3D\n",
            "http://www.youtube.com/watch?v=d32kUvK2If4&pp=ygUZY8OzIGNo4bqvYyB5w6p1IGzDoCDEkcOieQ%3D%3D\n",
            "Có Chắc Yêu Là Đây (Orinn Remix) - Anh Khoa | Nhạc Remix Hot TikTok Căng Cực Gây Nghiện 2023\n",
            "/watch?v=nmZNnhTQoEw&pp=ygUZY8OzIGNo4bqvYyB5w6p1IGzDoCDEkcOieQ%3D%3D\n",
            "http://www.youtube.com/watch?v=nmZNnhTQoEw&pp=ygUZY8OzIGNo4bqvYyB5w6p1IGzDoCDEkcOieQ%3D%3D\n"
          ]
        }
      ]
    },
    {
      "cell_type": "markdown",
      "source": [
        "Speech to Text"
      ],
      "metadata": {
        "id": "AIA0ZZdRBdry"
      }
    },
    {
      "cell_type": "code",
      "source": [
        "pip install SpeechRecognition pydub"
      ],
      "metadata": {
        "colab": {
          "base_uri": "https://localhost:8080/"
        },
        "id": "SHOX-Mw_Bipn",
        "outputId": "d7c70986-6232-41fc-8a18-a3f72dab9fb5"
      },
      "execution_count": 21,
      "outputs": [
        {
          "output_type": "stream",
          "name": "stdout",
          "text": [
            "Looking in indexes: https://pypi.org/simple, https://us-python.pkg.dev/colab-wheels/public/simple/\n",
            "Collecting SpeechRecognition\n",
            "  Downloading SpeechRecognition-3.10.0-py2.py3-none-any.whl (32.8 MB)\n",
            "\u001b[2K     \u001b[90m━━━━━━━━━━━━━━━━━━━━━━━━━━━━━━━━━━━━━━━━\u001b[0m \u001b[32m32.8/32.8 MB\u001b[0m \u001b[31m37.6 MB/s\u001b[0m eta \u001b[36m0:00:00\u001b[0m\n",
            "\u001b[?25hCollecting pydub\n",
            "  Downloading pydub-0.25.1-py2.py3-none-any.whl (32 kB)\n",
            "Requirement already satisfied: requests>=2.26.0 in /usr/local/lib/python3.9/dist-packages (from SpeechRecognition) (2.27.1)\n",
            "Requirement already satisfied: idna<4,>=2.5 in /usr/local/lib/python3.9/dist-packages (from requests>=2.26.0->SpeechRecognition) (3.4)\n",
            "Requirement already satisfied: urllib3<1.27,>=1.21.1 in /usr/local/lib/python3.9/dist-packages (from requests>=2.26.0->SpeechRecognition) (1.26.15)\n",
            "Requirement already satisfied: certifi>=2017.4.17 in /usr/local/lib/python3.9/dist-packages (from requests>=2.26.0->SpeechRecognition) (2022.12.7)\n",
            "Requirement already satisfied: charset-normalizer~=2.0.0 in /usr/local/lib/python3.9/dist-packages (from requests>=2.26.0->SpeechRecognition) (2.0.12)\n",
            "Installing collected packages: pydub, SpeechRecognition\n",
            "Successfully installed SpeechRecognition-3.10.0 pydub-0.25.1\n"
          ]
        }
      ]
    },
    {
      "cell_type": "code",
      "source": [
        "file='/content/drive/MyDrive/am_thanh/Small-Talk-Everyday-English.wav'\n",
        "import speech_recognition as sr\n",
        "r=sr.Recognizer()\n",
        "with sr.AudioFile(file) as source:\n",
        "  audio_data=r.record(source)\n",
        "  text=r.recognize_google(audio_data)\n",
        "  print(text)"
      ],
      "metadata": {
        "colab": {
          "base_uri": "https://localhost:8080/"
        },
        "id": "ugHioVGuB1Sd",
        "outputId": "d1cc079e-9dbe-49a1-8da3-f8c29626c56d"
      },
      "execution_count": 28,
      "outputs": [
        {
          "output_type": "stream",
          "name": "stdout",
          "text": [
            "so what's new Mark how is your new job going to be honest I can't complain I really love the company that I am working for my coworkers are all really friendly and helpful they really helped me feel welcome it's a really energetic and fun atmosphere my boss is hilarious and he's really flexible really how is so he allowed me to come in when I want and make my own hours I can also leave early if I start early there is no real dress code either I can wear jeans and a t-shirt if I want I can even wear shorts in the summer wow it sounds really cool I can't stand wearing a suit every day which do you prefer working late or finishing early I prefer finishing early I really enjoyed the morning I love getting up early and going for a run there's nothing like watching the sunrise while drinking my morning coffee really I am opposite I love sleeping in I am most Alert in the evenings I'm a real Night Owl well you know what they say the early bird catches the worm you could be right maybe I will try to go to bed a little earlier tonight\n"
          ]
        }
      ]
    },
    {
      "cell_type": "code",
      "source": [
        "with sr.AudioFile(file) as source:\n",
        "  audio1=r.record(source,duration=4)\n",
        "  audio2=r.record(source,duration=10)\n",
        "  audio3=r.record(source,offset=4,duration=10)\n",
        "print(r.recognize_google(audio1))\n",
        "print(r.recognize_google(audio2))\n",
        "print(r.recognize_google(audio3))"
      ],
      "metadata": {
        "colab": {
          "base_uri": "https://localhost:8080/"
        },
        "id": "nIg1pkUcEO-l",
        "outputId": "2b78986d-555b-42b4-eb75-8b855f7877a6"
      },
      "execution_count": 30,
      "outputs": [
        {
          "output_type": "stream",
          "name": "stdout",
          "text": [
            "so what's new Mark how was your\n",
            "job going to be honest I can't complain I really love the company that I am working for\n",
            "they really helped me feel welcome it's a really energetic and fun atmosphere my boss is hello\n"
          ]
        }
      ]
    },
    {
      "cell_type": "markdown",
      "source": [
        "BT3 (nhatban:ja, nga:ru, han:ko, phap:fr, duc:de, trunggianthe:zh_cn, trungphonthe:zh_tw, thailan:th, vietnam:vn)"
      ],
      "metadata": {
        "id": "g_oA2aZWFruG"
      }
    },
    {
      "cell_type": "code",
      "source": [
        "import speech_recognition as sr\n",
        "r=sr.Recognizer()\n",
        "with sr.AudioFile('/content/drive/MyDrive/am_thanh/Nhac-Chuong-La-Anh-Loi-Viet-Pham-Lich.wav') as source:\n",
        "  audio1=r.record(source,duration=10)\n",
        "  audio2=r.record(source,duration=15)\n",
        "print(r.recognize_google(audio1,language='vi_VN'))\n",
        "print(r.recognize_google(audio2,language='vi_VN'))\n",
        "\n",
        "\n"
      ],
      "metadata": {
        "colab": {
          "base_uri": "https://localhost:8080/"
        },
        "id": "bspgfTeAFhOn",
        "outputId": "6093c20f-784a-4437-f916-90beb204e83f"
      },
      "execution_count": 42,
      "outputs": [
        {
          "output_type": "stream",
          "name": "stdout",
          "text": [
            "truyện anh như hôm qua Trà Nóc\n",
            "vẫn còn đi bóng dáng một người ta đi bắt cua rồi\n"
          ]
        }
      ]
    },
    {
      "cell_type": "code",
      "source": [
        "pip install gTTS"
      ],
      "metadata": {
        "colab": {
          "base_uri": "https://localhost:8080/"
        },
        "id": "F0Z_ia4-JyfH",
        "outputId": "c5d2ad46-5582-4f37-f05d-39a7ffe4c8ff"
      },
      "execution_count": 43,
      "outputs": [
        {
          "output_type": "stream",
          "name": "stdout",
          "text": [
            "Looking in indexes: https://pypi.org/simple, https://us-python.pkg.dev/colab-wheels/public/simple/\n",
            "Collecting gTTS\n",
            "  Downloading gTTS-2.3.1-py3-none-any.whl (28 kB)\n",
            "Requirement already satisfied: click<8.2,>=7.1 in /usr/local/lib/python3.9/dist-packages (from gTTS) (8.1.3)\n",
            "Requirement already satisfied: requests<3,>=2.27 in /usr/local/lib/python3.9/dist-packages (from gTTS) (2.27.1)\n",
            "Requirement already satisfied: certifi>=2017.4.17 in /usr/local/lib/python3.9/dist-packages (from requests<3,>=2.27->gTTS) (2022.12.7)\n",
            "Requirement already satisfied: urllib3<1.27,>=1.21.1 in /usr/local/lib/python3.9/dist-packages (from requests<3,>=2.27->gTTS) (1.26.15)\n",
            "Requirement already satisfied: charset-normalizer~=2.0.0 in /usr/local/lib/python3.9/dist-packages (from requests<3,>=2.27->gTTS) (2.0.12)\n",
            "Requirement already satisfied: idna<4,>=2.5 in /usr/local/lib/python3.9/dist-packages (from requests<3,>=2.27->gTTS) (3.4)\n",
            "Installing collected packages: gTTS\n",
            "Successfully installed gTTS-2.3.1\n"
          ]
        }
      ]
    },
    {
      "cell_type": "code",
      "source": [
        "from gtts import gTTS\n",
        "import os\n",
        "\n"
      ],
      "metadata": {
        "id": "w0VgbaEYKDu4"
      },
      "execution_count": 45,
      "outputs": []
    },
    {
      "cell_type": "code",
      "source": [
        "A='我们一同追着心中的梦想 \\\n",
        "我们试着把太阳放在手掌 \\\n",
        "我们彼此笑着岁月的无常 \\\n",
        "也坚定的做着彼此的那束光 \\\n",
        "记不得曾跨越过多少风和浪 \\\n",
        "做你的船桨你是我的翅膀 \\\n",
        "我们记得对方青涩的模样 \\\n",
        "满是骄傲的脸庞 \\\n",
        "是光融不掉的冰花窗 \\\n",
        "是你是你 \\\n",
        "身后的青春都是你 \\\n",
        "绘成了我的山川流溪 \\\n",
        "为我下一场倾盆大雨 \\\n",
        "'\n"
      ],
      "metadata": {
        "id": "VwRVEbiwKR_A"
      },
      "execution_count": 67,
      "outputs": []
    },
    {
      "cell_type": "code",
      "source": [
        "speak=gTTS(text=A,lang='zh',slow=False)\n",
        "speak.save('/content/drive/MyDrive/am_thanh/text2.mp3')\n",
        "#playsound('/content/drive/MyDrive/am_thanh/text1.mp3')\n",
        "#os.remove('/content/drive/MyDrive/am_thanh/text1.mp3')\n",
        "print(A)"
      ],
      "metadata": {
        "colab": {
          "base_uri": "https://localhost:8080/"
        },
        "id": "8zvVJlu9K_Nh",
        "outputId": "e99fd4a3-f23d-40f5-cae3-94fbf10d5c78"
      },
      "execution_count": 69,
      "outputs": [
        {
          "output_type": "stream",
          "name": "stdout",
          "text": [
            "我们一同追着心中的梦想 我们试着把太阳放在手掌 我们彼此笑着岁月的无常 也坚定的做着彼此的那束光 记不得曾跨越过多少风和浪 做你的船桨你是我的翅膀 我们记得对方青涩的模样 满是骄傲的脸庞 是光融不掉的冰花窗 是你是你 身后的青春都是你 绘成了我的山川流溪 为我下一场倾盆大雨 \n"
          ]
        }
      ]
    },
    {
      "cell_type": "markdown",
      "source": [
        "translate"
      ],
      "metadata": {
        "id": "O3-84mosRS46"
      }
    },
    {
      "cell_type": "code",
      "source": [
        "pip install googletrans==3.1.0a0"
      ],
      "metadata": {
        "colab": {
          "base_uri": "https://localhost:8080/",
          "height": 1000
        },
        "id": "rB_uKmNfRUoJ",
        "outputId": "98519a65-779f-41a2-863c-3f612a3415ad"
      },
      "execution_count": 70,
      "outputs": [
        {
          "output_type": "stream",
          "name": "stdout",
          "text": [
            "Looking in indexes: https://pypi.org/simple, https://us-python.pkg.dev/colab-wheels/public/simple/\n",
            "Collecting googletrans==3.1.0a0\n",
            "  Downloading googletrans-3.1.0a0.tar.gz (19 kB)\n",
            "  Preparing metadata (setup.py) ... \u001b[?25l\u001b[?25hdone\n",
            "Collecting httpx==0.13.3\n",
            "  Downloading httpx-0.13.3-py3-none-any.whl (55 kB)\n",
            "\u001b[2K     \u001b[90m━━━━━━━━━━━━━━━━━━━━━━━━━━━━━━━━━━━━━━━━\u001b[0m \u001b[32m55.1/55.1 kB\u001b[0m \u001b[31m9.5 MB/s\u001b[0m eta \u001b[36m0:00:00\u001b[0m\n",
            "\u001b[?25hCollecting idna==2.*\n",
            "  Downloading idna-2.10-py2.py3-none-any.whl (58 kB)\n",
            "\u001b[2K     \u001b[90m━━━━━━━━━━━━━━━━━━━━━━━━━━━━━━━━━━━━━━━━\u001b[0m \u001b[32m58.8/58.8 kB\u001b[0m \u001b[31m10.5 MB/s\u001b[0m eta \u001b[36m0:00:00\u001b[0m\n",
            "\u001b[?25hCollecting httpcore==0.9.*\n",
            "  Downloading httpcore-0.9.1-py3-none-any.whl (42 kB)\n",
            "\u001b[2K     \u001b[90m━━━━━━━━━━━━━━━━━━━━━━━━━━━━━━━━━━━━━━━━\u001b[0m \u001b[32m42.6/42.6 kB\u001b[0m \u001b[31m6.5 MB/s\u001b[0m eta \u001b[36m0:00:00\u001b[0m\n",
            "\u001b[?25hCollecting rfc3986<2,>=1.3\n",
            "  Downloading rfc3986-1.5.0-py2.py3-none-any.whl (31 kB)\n",
            "Collecting hstspreload\n",
            "  Downloading hstspreload-2023.1.1-py3-none-any.whl (1.5 MB)\n",
            "\u001b[2K     \u001b[90m━━━━━━━━━━━━━━━━━━━━━━━━━━━━━━━━━━━━━━━━\u001b[0m \u001b[32m1.5/1.5 MB\u001b[0m \u001b[31m66.9 MB/s\u001b[0m eta \u001b[36m0:00:00\u001b[0m\n",
            "\u001b[?25hRequirement already satisfied: certifi in /usr/local/lib/python3.9/dist-packages (from httpx==0.13.3->googletrans==3.1.0a0) (2022.12.7)\n",
            "Requirement already satisfied: sniffio in /usr/local/lib/python3.9/dist-packages (from httpx==0.13.3->googletrans==3.1.0a0) (1.3.0)\n",
            "Collecting chardet==3.*\n",
            "  Downloading chardet-3.0.4-py2.py3-none-any.whl (133 kB)\n",
            "\u001b[2K     \u001b[90m━━━━━━━━━━━━━━━━━━━━━━━━━━━━━━━━━━━━━━\u001b[0m \u001b[32m133.4/133.4 kB\u001b[0m \u001b[31m15.2 MB/s\u001b[0m eta \u001b[36m0:00:00\u001b[0m\n",
            "\u001b[?25hCollecting h11<0.10,>=0.8\n",
            "  Downloading h11-0.9.0-py2.py3-none-any.whl (53 kB)\n",
            "\u001b[2K     \u001b[90m━━━━━━━━━━━━━━━━━━━━━━━━━━━━━━━━━━━━━━━━\u001b[0m \u001b[32m53.6/53.6 kB\u001b[0m \u001b[31m9.0 MB/s\u001b[0m eta \u001b[36m0:00:00\u001b[0m\n",
            "\u001b[?25hCollecting h2==3.*\n",
            "  Downloading h2-3.2.0-py2.py3-none-any.whl (65 kB)\n",
            "\u001b[2K     \u001b[90m━━━━━━━━━━━━━━━━━━━━━━━━━━━━━━━━━━━━━━━━\u001b[0m \u001b[32m65.0/65.0 kB\u001b[0m \u001b[31m10.9 MB/s\u001b[0m eta \u001b[36m0:00:00\u001b[0m\n",
            "\u001b[?25hCollecting hyperframe<6,>=5.2.0\n",
            "  Downloading hyperframe-5.2.0-py2.py3-none-any.whl (12 kB)\n",
            "Collecting hpack<4,>=3.0\n",
            "  Downloading hpack-3.0.0-py2.py3-none-any.whl (38 kB)\n",
            "Building wheels for collected packages: googletrans\n",
            "  Building wheel for googletrans (setup.py) ... \u001b[?25l\u001b[?25hdone\n",
            "  Created wheel for googletrans: filename=googletrans-3.1.0a0-py3-none-any.whl size=16368 sha256=9851bfe50f6b100314916f40c994fbf9c04a0f04f0c8dc91322d3853ad90922e\n",
            "  Stored in directory: /root/.cache/pip/wheels/ae/e1/6c/5137bc3f35aa130deea71575e165cc4f4f0680a88f3d90a636\n",
            "Successfully built googletrans\n",
            "Installing collected packages: rfc3986, hyperframe, hpack, h11, chardet, idna, hstspreload, h2, httpcore, httpx, googletrans\n",
            "  Attempting uninstall: chardet\n",
            "    Found existing installation: chardet 4.0.0\n",
            "    Uninstalling chardet-4.0.0:\n",
            "      Successfully uninstalled chardet-4.0.0\n",
            "  Attempting uninstall: idna\n",
            "    Found existing installation: idna 3.4\n",
            "    Uninstalling idna-3.4:\n",
            "      Successfully uninstalled idna-3.4\n",
            "Successfully installed chardet-3.0.4 googletrans-3.1.0a0 h11-0.9.0 h2-3.2.0 hpack-3.0.0 hstspreload-2023.1.1 httpcore-0.9.1 httpx-0.13.3 hyperframe-5.2.0 idna-2.10 rfc3986-1.5.0\n"
          ]
        },
        {
          "output_type": "display_data",
          "data": {
            "application/vnd.colab-display-data+json": {
              "pip_warning": {
                "packages": [
                  "chardet",
                  "idna"
                ]
              }
            }
          },
          "metadata": {}
        }
      ]
    },
    {
      "cell_type": "code",
      "source": [
        "from googletrans import Translator\n"
      ],
      "metadata": {
        "id": "IlmKWpEuRn7T"
      },
      "execution_count": 76,
      "outputs": []
    },
    {
      "cell_type": "code",
      "source": [
        "translator=Translator()\n",
        "translation=translator.translate('em nhà ở đâu thế',dest='ru')\n",
        "print(translation.text)"
      ],
      "metadata": {
        "colab": {
          "base_uri": "https://localhost:8080/"
        },
        "id": "TrLQGRZCS0ZY",
        "outputId": "304b171e-092c-4ea7-c358-06998685417f"
      },
      "execution_count": 80,
      "outputs": [
        {
          "output_type": "stream",
          "name": "stdout",
          "text": [
            "где ты дома?\n"
          ]
        }
      ]
    },
    {
      "cell_type": "code",
      "source": [
        "file='/content/drive/MyDrive/am_thanh/Small-Talk-Everyday-English.wav'\n",
        "import speech_recognition as sr\n",
        "r=sr.Recognizer()\n",
        "with sr.AudioFile(file) as source:\n",
        "  audio_data=r.record(source)\n",
        "  text=r.recognize_google(audio_data)\n",
        "  print(text)\n",
        "translator=Translator()\n",
        "#translation=translator.translate(text,dest='vi')\n",
        "translation=translator.translate(text,dest='th')\n",
        "print(translation.text)\n",
        "model=translation.text\n",
        "#speak=gTTS(text=model,lang='vi',slow=False)\n",
        "speak=gTTS(text=model,lang='th',slow=False)\n",
        "#speak.save('/content/drive/MyDrive/am_thanh/text5.mp3') #tiengviet\n",
        "speak.save('/content/drive/MyDrive/am_thanh/text6.mp3')"
      ],
      "metadata": {
        "colab": {
          "base_uri": "https://localhost:8080/"
        },
        "id": "VG2p8ddfTFC2",
        "outputId": "804e0182-ad51-4f64-b446-0238327341f5"
      },
      "execution_count": 87,
      "outputs": [
        {
          "output_type": "stream",
          "name": "stdout",
          "text": [
            "so what's new Mark how is your new job going to be honest I can't complain I really love the company that I am working for my coworkers are all really friendly and helpful they really helped me feel welcome it's a really energetic and fun atmosphere my boss is hilarious and he's really flexible really how is so he allowed me to come in when I want and make my own hours I can also leave early if I start early there is no real dress code either I can wear jeans and a t-shirt if I want I can even wear shorts in the summer wow it sounds really cool I can't stand wearing a suit every day which do you prefer working late or finishing early I prefer finishing early I really enjoyed the morning I love getting up early and going for a run there's nothing like watching the sunrise while drinking my morning coffee really I am opposite I love sleeping in I am most Alert in the evenings I'm a real Night Owl well you know what they say the early bird catches the worm you could be right maybe I will try to go to bed a little earlier tonight\n",
            "มีอะไรใหม่ มาร์คว่างานใหม่ของคุณเป็นอย่างไร พูดตามตรง ฉันไม่สามารถบ่นได้ ฉันรักบริษัทที่ฉันทำงานจริงๆ เพื่อนร่วมงานของฉันทุกคนเป็นมิตรและช่วยเหลือดีมาก พวกเขาช่วยให้ฉันรู้สึกยินดีจริงๆ มันเป็นบรรยากาศที่กระตือรือร้นและสนุกสนานของฉัน เจ้านายเป็นคนเฮฮาและเขาก็ยืดหยุ่นได้จริงๆ เขาอนุญาตให้ฉันเข้ามาในเวลาที่ฉันต้องการและมีเวลาส่วนตัว ฉันก็สามารถออกไปก่อนเวลาได้ถ้าฉันเริ่มก่อนเวลา ไม่มีระเบียบการแต่งกายจริงๆ ฉันสามารถใส่กางเกงยีนส์และเสื้อยืดได้ ถ้าฉันต้องการ ฉันสามารถใส่กางเกงขาสั้นในฤดูร้อนได้ ว้าว มันฟังดูเท่จริงๆ ฉันทนใส่สูททุกวันไม่ไหว คุณชอบทำงานสายหรือเลิกงานเร็ว ฉันชอบทำงานให้เสร็จไวๆ ฉันชอบตอนเช้า ฉันชอบตื่นเช้า ออกไปวิ่ง ไม่มีอะไรที่เหมือนกับการดูพระอาทิตย์ขึ้นในขณะที่ดื่มกาแฟยามเช้า จริงๆ แล้วฉันตรงกันข้าม ฉันชอบนอนในที่ ฉันตื่นตัวที่สุดในตอนเย็น ฉันเป็นนกฮูกกลางคืนตัวจริง คุณก็รู้ว่าสิ่งที่พวกเขาพูด นกที่ตื่นเช้าจับหนอนได้ อาจจะถูกต้อง บางทีฉันอาจจะพยายามเข้านอนให้เร็วขึ้นสักหน่อยในคืนนี้\n"
          ]
        }
      ]
    },
    {
      "cell_type": "markdown",
      "source": [
        "MFCC chuyển âm thanh thành tần số"
      ],
      "metadata": {
        "id": "2U8cd4AZY1PL"
      }
    },
    {
      "cell_type": "code",
      "source": [
        "pip install python_speech_features"
      ],
      "metadata": {
        "colab": {
          "base_uri": "https://localhost:8080/"
        },
        "id": "pmK08XmnZstC",
        "outputId": "e46bff42-cb91-4e4a-a0e3-6b0801cf74d9"
      },
      "execution_count": 89,
      "outputs": [
        {
          "output_type": "stream",
          "name": "stdout",
          "text": [
            "Looking in indexes: https://pypi.org/simple, https://us-python.pkg.dev/colab-wheels/public/simple/\n",
            "Collecting python_speech_features\n",
            "  Downloading python_speech_features-0.6.tar.gz (5.6 kB)\n",
            "  Preparing metadata (setup.py) ... \u001b[?25l\u001b[?25hdone\n",
            "Building wheels for collected packages: python_speech_features\n",
            "  Building wheel for python_speech_features (setup.py) ... \u001b[?25l\u001b[?25hdone\n",
            "  Created wheel for python_speech_features: filename=python_speech_features-0.6-py3-none-any.whl size=5886 sha256=2a7ff979bcaec9489f4cddab0500a648829145e5f06f6ecc10650e6cfd3fbd31\n",
            "  Stored in directory: /root/.cache/pip/wheels/09/a1/04/08e2688d2562d8f9ff89e77c6ddfbf7268e07dae1a6f22455e\n",
            "Successfully built python_speech_features\n",
            "Installing collected packages: python_speech_features\n",
            "Successfully installed python_speech_features-0.6\n"
          ]
        }
      ]
    },
    {
      "cell_type": "code",
      "source": [
        "import numpy as np\n",
        "import matplotlib.pyplot as plt\n",
        "from scipy.io import wavfile\n",
        "from python_speech_features import mfcc, logfbank\n",
        "frequency_sample, audio_signal=wavfile.read('/content/drive/MyDrive/am_thanh/Vietnamese Otter - Những chú rái cá đòi ăn siêu dễ thương (mp3cut.net).wav')\n"
      ],
      "metadata": {
        "id": "vGgPi1UjY6Om"
      },
      "execution_count": 98,
      "outputs": []
    },
    {
      "cell_type": "code",
      "source": [
        "audio_signal=audio_signal[:1500]\n",
        "feature_mfcc=mfcc(audio_signal,frequency_sample)\n",
        "print('\\nMFCC:\\n Number of windows= ',feature_mfcc.shape[0])\n",
        "print('Length of each feature: ',feature_mfcc.shape[1])\n",
        "feature_mfcc=feature_mfcc.T\n",
        "plt.matshow(feature_mfcc)\n",
        "plt.title('MFCC')"
      ],
      "metadata": {
        "colab": {
          "base_uri": "https://localhost:8080/",
          "height": 888
        },
        "id": "oO79gJRKZ8FM",
        "outputId": "eb62a5a9-94ec-47e7-dbba-68f08f01498d"
      },
      "execution_count": 99,
      "outputs": [
        {
          "output_type": "stream",
          "name": "stderr",
          "text": [
            "WARNING:root:frame length (1103) is greater than FFT size (512), frame will be truncated. Increase NFFT to avoid.\n"
          ]
        },
        {
          "output_type": "stream",
          "name": "stdout",
          "text": [
            "\n",
            "MFCC:\n",
            " Number of windows=  6\n",
            "Length of each feature:  13\n"
          ]
        },
        {
          "output_type": "execute_result",
          "data": {
            "text/plain": [
              "Text(0.5, 1.0, 'MFCC')"
            ]
          },
          "metadata": {},
          "execution_count": 99
        },
        {
          "output_type": "display_data",
          "data": {
            "text/plain": [
              "<Figure size 400x866.667 with 1 Axes>"
            ],
            "image/png": "[encoded data removed]"
          },
          "metadata": {}
        }
      ]
    },
    {
      "cell_type": "code",
      "source": [
        "filterbank_feature=logfbank(audio_signal, frequency_sample)\n",
        "print('\\n Filter bank: Number of windows= ',filterbank_feature.shape[0])\n",
        "print('leght of each feature: ',filterbank_feature.shape[1])"
      ],
      "metadata": {
        "colab": {
          "base_uri": "https://localhost:8080/"
        },
        "id": "LvhLEKd8bk8U",
        "outputId": "60a5c19b-4e51-4f47-caa0-55fc0e60bb25"
      },
      "execution_count": 100,
      "outputs": [
        {
          "output_type": "stream",
          "name": "stderr",
          "text": [
            "WARNING:root:frame length (1103) is greater than FFT size (512), frame will be truncated. Increase NFFT to avoid.\n"
          ]
        },
        {
          "output_type": "stream",
          "name": "stdout",
          "text": [
            "\n",
            " Filter bank: Number of windows=  6\n",
            "leght of each feature:  26\n"
          ]
        }
      ]
    },
    {
      "cell_type": "code",
      "source": [
        "filterbank_feature=filterbank_feature.T\n",
        "plt.matshow(filterbank_feature)\n",
        "plt.title('filter Bank')\n",
        "plt.show()"
      ],
      "metadata": {
        "colab": {
          "base_uri": "https://localhost:8080/",
          "height": 1000
        },
        "id": "id5o7b6Pceg7",
        "outputId": "b6d279b5-c2f8-472a-b201-65f42d57d71e"
      },
      "execution_count": 101,
      "outputs": [
        {
          "output_type": "display_data",
          "data": {
            "text/plain": [
              "<Figure size 400x1600 with 1 Axes>"
            ],
            "image/png": "[encoded data removed]"
          },
          "metadata": {}
        }
      ]
    }
  ]
}